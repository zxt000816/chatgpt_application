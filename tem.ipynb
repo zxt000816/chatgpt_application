{
 "cells": [
  {
   "cell_type": "code",
   "execution_count": 11,
   "metadata": {},
   "outputs": [
    {
     "name": "stdout",
     "output_type": "stream",
     "text": [
      "./Indexes/Retrievers/Self-querying_with_Chroma.ipynb\n"
     ]
    }
   ],
   "source": [
    "# replace space by underscore\n",
    "import os\n",
    "\n",
    "path_dir = './Indexes/Retrievers'\n",
    "\n",
    "name = input(\"Enter the name of the file: \")\n",
    "\n",
    "name = name.replace(\" \", \"_\") + \".ipynb\"\n",
    "\n",
    "path = os.path.join(path_dir, name)\n",
    "\n",
    "print(path)"
   ]
  },
  {
   "cell_type": "code",
   "execution_count": 12,
   "metadata": {},
   "outputs": [],
   "source": [
    "\n",
    "if not os.path.exists(path):\n",
    "    with open(path, 'w') as file:\n",
    "        pass\n",
    "else:\n",
    "    print(\"File already exists\")"
   ]
  }
 ],
 "metadata": {
  "kernelspec": {
   "display_name": "chatgpt_app",
   "language": "python",
   "name": "python3"
  },
  "language_info": {
   "codemirror_mode": {
    "name": "ipython",
    "version": 3
   },
   "file_extension": ".py",
   "mimetype": "text/x-python",
   "name": "python",
   "nbconvert_exporter": "python",
   "pygments_lexer": "ipython3",
   "version": "3.10.11"
  },
  "orig_nbformat": 4
 },
 "nbformat": 4,
 "nbformat_minor": 2
}
