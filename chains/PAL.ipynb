{
 "cells": [
  {
   "cell_type": "code",
   "execution_count": 49,
   "metadata": {},
   "outputs": [],
   "source": [
    "from langchain.chains import PALChain\n",
    "from langchain import OpenAI\n",
    "from langchain.chat_models import ChatOpenAI\n",
    "from langchain.callbacks import get_openai_callback"
   ]
  },
  {
   "cell_type": "code",
   "execution_count": 50,
   "metadata": {},
   "outputs": [],
   "source": [
    "llm = ChatOpenAI(temperature=0, max_tokens=512)"
   ]
  },
  {
   "attachments": {},
   "cell_type": "markdown",
   "metadata": {},
   "source": [
    "# Math Prompt"
   ]
  },
  {
   "cell_type": "code",
   "execution_count": 51,
   "metadata": {},
   "outputs": [],
   "source": [
    "pal_chain = PALChain.from_math_prompt(llm, verbose=True)"
   ]
  },
  {
   "cell_type": "code",
   "execution_count": 54,
   "metadata": {},
   "outputs": [],
   "source": [
    "def ask(question):\n",
    "    chain = pal_chain.from_math_prompt(llm, verbose=True)\n",
    "    with get_openai_callback() as cb:\n",
    "        response = chain.run(question)\n",
    "        print(f\"Answer: {response}\\n\")\n",
    "        print(f\"Total Tokens: {cb.total_tokens}\")\n",
    "        print(f\"Prompt Tokens: {cb.prompt_tokens}\")\n",
    "        print(f\"Completion Tokens: {cb.completion_tokens}\")\n",
    "        print(f\"Successful Requests: {cb.successful_requests}\")\n",
    "        print(f\"Total Cost (USD): ${cb.total_cost}\")\n",
    "    return response\n",
    "\n",
    "def ask_with_steps(question):\n",
    "    chain = pal_chain.from_math_prompt(llm, verbose=True, return_intermediate_steps=True)\n",
    "    with get_openai_callback() as cb:\n",
    "        response = chain({'question': question})\n",
    "        print(f\"Answer: {response}\\n\")\n",
    "        print(f\"Total Tokens: {cb.total_tokens}\")\n",
    "        print(f\"Prompt Tokens: {cb.prompt_tokens}\")\n",
    "        print(f\"Completion Tokens: {cb.completion_tokens}\")\n",
    "        print(f\"Successful Requests: {cb.successful_requests}\")\n",
    "        print(f\"Total Cost (USD): ${cb.total_cost}\")"
   ]
  },
  {
   "cell_type": "code",
   "execution_count": 56,
   "metadata": {},
   "outputs": [
    {
     "name": "stdout",
     "output_type": "stream",
     "text": [
      "\n",
      "\n",
      "\u001b[1m> Entering new PALChain chain...\u001b[0m\n",
      "\u001b[32;1m\u001b[1;3mdef solution():\n",
      "    \"\"\"使用科学计数法表示448000\"\"\"\n",
      "    num = 448000\n",
      "    result = \"{:.2e}\".format(num)\n",
      "    return result\u001b[0m\n",
      "\n",
      "\u001b[1m> Finished chain.\u001b[0m\n",
      "Answer: {'question': '国家速滑馆“冰丝带”上方镶嵌着许多光伏发电玻璃，据测算，“冰丝带”屋顶安装的光伏电站每年可输出约448000度清洁电力．使用科学计数法表示448000', 'result': '4.48e+05', 'intermediate_steps': 'def solution():\\n    \"\"\"使用科学计数法表示448000\"\"\"\\n    num = 448000\\n    result = \"{:.2e}\".format(num)\\n    return result'}\n",
      "\n",
      "Total Tokens: 1223\n",
      "Prompt Tokens: 1187\n",
      "Completion Tokens: 36\n",
      "Successful Requests: 1\n",
      "Total Cost (USD): $0.0024460000000000003\n"
     ]
    }
   ],
   "source": [
    "chain = pal_chain.from_math_prompt(llm, verbose=True, return_intermediate_steps=True)\n",
    "with get_openai_callback() as cb:\n",
    "    response = chain({'question': \"国家速滑馆“冰丝带”上方镶嵌着许多光伏发电玻璃，据测算，“冰丝带”屋顶安装的光伏电站每年可输出约448000度清洁电力．使用科学计数法表示448000\"})\n",
    "    print(f\"Answer: {response}\\n\")\n",
    "    print(f\"Total Tokens: {cb.total_tokens}\")\n",
    "    print(f\"Prompt Tokens: {cb.prompt_tokens}\")\n",
    "    print(f\"Completion Tokens: {cb.completion_tokens}\")\n",
    "    print(f\"Successful Requests: {cb.successful_requests}\")\n",
    "    print(f\"Total Cost (USD): ${cb.total_cost}\")"
   ]
  },
  {
   "cell_type": "code",
   "execution_count": 16,
   "metadata": {},
   "outputs": [
    {
     "name": "stdout",
     "output_type": "stream",
     "text": [
      "\n",
      "\n",
      "\u001b[1m> Entering new PALChain chain...\u001b[0m\n",
      "\u001b[32;1m\u001b[1;3mdef solution():\n",
      "    \"\"\"已知2^(1/2) < m < 11^(1/2)，且m是整数，请写出一个符合要求的m的值\"\"\"\n",
      "    # 2^(1/2) ≈ 1.414，11^(1/2) ≈ 3.317\n",
      "    # 因此，m的取值范围是[2, 3]\n",
      "    # 符合要求的m的值有2和3，任选一个即可\n",
      "    result = 2  # 或者 result = 3\n",
      "    return result\u001b[0m\n",
      "\n",
      "\u001b[1m> Finished chain.\u001b[0m\n",
      "Answer: 2\n",
      "\n",
      "Total Tokens: 1267\n",
      "Prompt Tokens: 1136\n",
      "Completion Tokens: 131\n",
      "Successful Requests: 1\n",
      "Total Cost (USD): $0.0025340000000000002\n"
     ]
    },
    {
     "data": {
      "text/plain": [
       "'2'"
      ]
     },
     "execution_count": 16,
     "metadata": {},
     "output_type": "execute_result"
    }
   ],
   "source": [
    "ask(\"已知2^(1/2) < m < 11^(1/2)，且m是整数，请写出一个符合要求的m的值\")"
   ]
  },
  {
   "cell_type": "code",
   "execution_count": 17,
   "metadata": {},
   "outputs": [
    {
     "name": "stdout",
     "output_type": "stream",
     "text": [
      "\n",
      "\n",
      "\u001b[1m> Entering new PALChain chain...\u001b[0m\n",
      "\u001b[32;1m\u001b[1;3mdef solution():\n",
      "    \"\"\"若关于x的一元二次方程 x^2﹣2x + k = 0无实数根，则实数k的取值范围是\"\"\"\n",
      "    # 一元二次方程无实数根的条件是 b^2 - 4ac < 0\n",
      "    # 对于 x^2 - 2x + k = 0，a = 1, b = -2, c = k\n",
      "    # 所以 k 的取值范围是 k < 1\n",
      "    result = \"k < 1\"\n",
      "    return result\u001b[0m\n",
      "\n",
      "\u001b[1m> Finished chain.\u001b[0m\n",
      "Answer: k < 1\n",
      "\n",
      "Total Tokens: 1278\n",
      "Prompt Tokens: 1140\n",
      "Completion Tokens: 138\n",
      "Successful Requests: 1\n",
      "Total Cost (USD): $0.0025560000000000005\n"
     ]
    },
    {
     "data": {
      "text/plain": [
       "'k < 1'"
      ]
     },
     "execution_count": 17,
     "metadata": {},
     "output_type": "execute_result"
    }
   ],
   "source": [
    "ask(\"若关于x的一元二次方程 x^2﹣2x + k = 0无实数根，则实数k的取值范围是\")"
   ]
  },
  {
   "cell_type": "code",
   "execution_count": 18,
   "metadata": {},
   "outputs": [
    {
     "name": "stdout",
     "output_type": "stream",
     "text": [
      "\n",
      "\n",
      "\u001b[1m> Entering new PALChain chain...\u001b[0m\n",
      "\u001b[32;1m\u001b[1;3mdef solution():\n",
      "    \"\"\"已知圆锥的底面半径为1cm，高为3^(1/2)cm ，则它的侧面展开图的面积为\"\"\"\n",
      "    import math\n",
      "    r = 1\n",
      "    h = math.sqrt(3)\n",
      "    l = math.sqrt(r**2 + h**2)\n",
      "    s = math.pi * r * l\n",
      "    result = s\n",
      "    return result\u001b[0m\n",
      "\n",
      "\u001b[1m> Finished chain.\u001b[0m\n",
      "Answer: 6.283185307179585\n",
      "\n",
      "Total Tokens: 1239\n",
      "Prompt Tokens: 1142\n",
      "Completion Tokens: 97\n",
      "Successful Requests: 1\n",
      "Total Cost (USD): $0.0024780000000000006\n"
     ]
    },
    {
     "data": {
      "text/plain": [
       "'6.283185307179585'"
      ]
     },
     "execution_count": 18,
     "metadata": {},
     "output_type": "execute_result"
    }
   ],
   "source": [
    "ask(\"已知圆锥的底面半径为1cm，高为3^(1/2)cm ，则它的侧面展开图的面积为\")"
   ]
  },
  {
   "cell_type": "code",
   "execution_count": 19,
   "metadata": {},
   "outputs": [
    {
     "name": "stdout",
     "output_type": "stream",
     "text": [
      "\n",
      "\n",
      "\u001b[1m> Entering new PALChain chain...\u001b[0m\n",
      "\u001b[32;1m\u001b[1;3mdef solution():\n",
      "    \"\"\"已知a^2 - ab = 1, 求代数式(a-b)^2 + (a+b)(a-b)的值?\"\"\"\n",
      "    # a^2 - ab = 1 => a^2 = ab + 1\n",
      "    # (a-b)^2 + (a+b)(a-b) = a^2 - 2ab + b^2 + a^2 - b^2 = 2a^2 - 2ab\n",
      "    # = 2(ab + 1) - 2ab = 2\n",
      "    result = 2\n",
      "    return result\u001b[0m\n",
      "\n",
      "\u001b[1m> Finished chain.\u001b[0m\n",
      "Answer: 2\n",
      "\n",
      "Total Tokens: 1262\n",
      "Prompt Tokens: 1131\n",
      "Completion Tokens: 131\n",
      "Successful Requests: 1\n",
      "Total Cost (USD): $0.002524\n"
     ]
    },
    {
     "data": {
      "text/plain": [
       "'2'"
      ]
     },
     "execution_count": 19,
     "metadata": {},
     "output_type": "execute_result"
    }
   ],
   "source": [
    "ask(\"已知a^2 - ab = 1, 求代数式(a-b)^2 + (a+b)(a-b)的值?\")"
   ]
  },
  {
   "attachments": {},
   "cell_type": "markdown",
   "metadata": {},
   "source": [
    "# Colored Objects"
   ]
  },
  {
   "cell_type": "code",
   "execution_count": 45,
   "metadata": {},
   "outputs": [],
   "source": [
    "pal_chain = PALChain.from_colored_object_prompt(llm, verbose=True, return_intermediate_steps=True)"
   ]
  },
  {
   "cell_type": "code",
   "execution_count": 46,
   "metadata": {},
   "outputs": [],
   "source": [
    "question = \"On the desk, you see two blue booklets, two purple booklets, and two yellow pairs of sunglasses. If I remove all the pairs of sunglasses from the desk, how many purple items remain on it?\""
   ]
  },
  {
   "cell_type": "code",
   "execution_count": 48,
   "metadata": {},
   "outputs": [
    {
     "name": "stdout",
     "output_type": "stream",
     "text": [
      "\n",
      "\n",
      "\u001b[1m> Entering new PALChain chain...\u001b[0m\n",
      "\u001b[32;1m\u001b[1;3m# Put objects into a list to count them\n",
      "objects = []\n",
      "objects += [('booklet', 'blue')] * 2\n",
      "objects += [('booklet', 'purple')] * 2\n",
      "objects += [('sunglasses', 'yellow')] * 2\n",
      "\n",
      "# Remove all pairs of sunglasses\n",
      "objects = [object for object in objects if not (object[0] == 'sunglasses' and object[1] == 'yellow')]\n",
      "\n",
      "# Count the number of purple items remaining\n",
      "num_purple = len([object for object in objects if object[1] == 'purple'])\n",
      "answer = num_purple\u001b[0m\n",
      "\n",
      "\u001b[1m> Finished chain.\u001b[0m\n"
     ]
    },
    {
     "data": {
      "text/plain": [
       "{'question': 'On the desk, you see two blue booklets, two purple booklets, and two yellow pairs of sunglasses. If I remove all the pairs of sunglasses from the desk, how many purple items remain on it?',\n",
       " 'result': '2',\n",
       " 'intermediate_steps': \"# Put objects into a list to count them\\nobjects = []\\nobjects += [('booklet', 'blue')] * 2\\nobjects += [('booklet', 'purple')] * 2\\nobjects += [('sunglasses', 'yellow')] * 2\\n\\n# Remove all pairs of sunglasses\\nobjects = [object for object in objects if not (object[0] == 'sunglasses' and object[1] == 'yellow')]\\n\\n# Count the number of purple items remaining\\nnum_purple = len([object for object in objects if object[1] == 'purple'])\\nanswer = num_purple\"}"
      ]
     },
     "execution_count": 48,
     "metadata": {},
     "output_type": "execute_result"
    }
   ],
   "source": [
    "pal_chain({\"question\": question})"
   ]
  }
 ],
 "metadata": {
  "kernelspec": {
   "display_name": "chatgpt_app",
   "language": "python",
   "name": "python3"
  },
  "language_info": {
   "codemirror_mode": {
    "name": "ipython",
    "version": 3
   },
   "file_extension": ".py",
   "mimetype": "text/x-python",
   "name": "python",
   "nbconvert_exporter": "python",
   "pygments_lexer": "ipython3",
   "version": "3.10.11"
  },
  "orig_nbformat": 4
 },
 "nbformat": 4,
 "nbformat_minor": 2
}
