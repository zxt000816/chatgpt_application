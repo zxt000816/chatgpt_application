{
 "cells": [
  {
   "cell_type": "code",
   "execution_count": 1,
   "metadata": {},
   "outputs": [],
   "source": [
    "from dotenv import load_dotenv\n",
    "import os\n",
    "load_dotenv()\n",
    "OPENAI_API_KEY = os.getenv('OPENAI_API_KEY')"
   ]
  },
  {
   "cell_type": "code",
   "execution_count": 2,
   "metadata": {},
   "outputs": [],
   "source": [
    "from langchain.agents.agent_toolkits import PlayWrightBrowserToolkit\n",
    "from langchain.tools.playwright.utils import (\n",
    "    create_async_playwright_browser,\n",
    "    create_sync_playwright_browser,# A synchronous browser is available, though it isn't compatible with jupyter.\n",
    ")"
   ]
  },
  {
   "cell_type": "code",
   "execution_count": 3,
   "metadata": {},
   "outputs": [],
   "source": [
    "# This import is required only for jupyter notebooks, since they have their own eventloop\n",
    "import nest_asyncio\n",
    "nest_asyncio.apply()"
   ]
  },
  {
   "cell_type": "code",
   "execution_count": 4,
   "metadata": {},
   "outputs": [],
   "source": [
    "!python -m playwright install"
   ]
  },
  {
   "cell_type": "code",
   "execution_count": 5,
   "metadata": {},
   "outputs": [
    {
     "name": "stdout",
     "output_type": "stream",
     "text": [
      "Requirement already satisfied: playwright in c:\\users\\zyf13\\miniconda3\\envs\\chatgpt_app_v2\\lib\\site-packages (1.33.0)\n",
      "Requirement already satisfied: greenlet==2.0.1 in c:\\users\\zyf13\\miniconda3\\envs\\chatgpt_app_v2\\lib\\site-packages (from playwright) (2.0.1)\n",
      "Requirement already satisfied: pyee==9.0.4 in c:\\users\\zyf13\\miniconda3\\envs\\chatgpt_app_v2\\lib\\site-packages (from playwright) (9.0.4)\n",
      "Requirement already satisfied: typing-extensions in c:\\users\\zyf13\\miniconda3\\envs\\chatgpt_app_v2\\lib\\site-packages (from pyee==9.0.4->playwright) (4.5.0)\n"
     ]
    }
   ],
   "source": [
    "!pip install playwright"
   ]
  },
  {
   "cell_type": "code",
   "execution_count": 6,
   "metadata": {},
   "outputs": [
    {
     "name": "stderr",
     "output_type": "stream",
     "text": [
      "Task exception was never retrieved\n",
      "future: <Task finished name='Task-2' coro=<Connection.run() done, defined at c:\\Users\\zyf13\\miniconda3\\envs\\chatgpt_app_v2\\lib\\site-packages\\playwright\\_impl\\_connection.py:258> exception=NotImplementedError()>\n",
      "Traceback (most recent call last):\n",
      "  File \"c:\\Users\\zyf13\\miniconda3\\envs\\chatgpt_app_v2\\lib\\site-packages\\IPython\\core\\interactiveshell.py\", line 3508, in run_code\n",
      "    exec(code_obj, self.user_global_ns, self.user_ns)\n",
      "  File \"C:\\Users\\zyf13\\AppData\\Local\\Temp\\ipykernel_25808\\2200689846.py\", line 1, in <module>\n",
      "    async_browser = create_async_playwright_browser()\n",
      "  File \"c:\\Users\\zyf13\\miniconda3\\envs\\chatgpt_app_v2\\lib\\site-packages\\langchain\\tools\\playwright\\utils.py\", line 39, in create_async_playwright_browser\n",
      "    browser = run_async(async_playwright().start())\n",
      "  File \"c:\\Users\\zyf13\\miniconda3\\envs\\chatgpt_app_v2\\lib\\site-packages\\langchain\\tools\\playwright\\utils.py\", line 55, in run_async\n",
      "    return event_loop.run_until_complete(coro)\n",
      "  File \"c:\\Users\\zyf13\\miniconda3\\envs\\chatgpt_app_v2\\lib\\site-packages\\nest_asyncio.py\", line 90, in run_until_complete\n",
      "    return f.result()\n",
      "  File \"c:\\Users\\zyf13\\miniconda3\\envs\\chatgpt_app_v2\\lib\\asyncio\\futures.py\", line 201, in result\n",
      "    raise self._exception.with_traceback(self._exception_tb)\n",
      "  File \"c:\\Users\\zyf13\\miniconda3\\envs\\chatgpt_app_v2\\lib\\asyncio\\tasks.py\", line 232, in __step\n",
      "    result = coro.send(None)\n",
      "  File \"c:\\Users\\zyf13\\miniconda3\\envs\\chatgpt_app_v2\\lib\\site-packages\\playwright\\async_api\\_context_manager.py\", line 51, in start\n",
      "    return await self.__aenter__()\n",
      "  File \"c:\\Users\\zyf13\\miniconda3\\envs\\chatgpt_app_v2\\lib\\site-packages\\playwright\\async_api\\_context_manager.py\", line 46, in __aenter__\n",
      "    playwright = AsyncPlaywright(next(iter(done)).result())\n",
      "  File \"c:\\Users\\zyf13\\miniconda3\\envs\\chatgpt_app_v2\\lib\\asyncio\\futures.py\", line 201, in result\n",
      "    raise self._exception.with_traceback(self._exception_tb)\n",
      "  File \"c:\\Users\\zyf13\\miniconda3\\envs\\chatgpt_app_v2\\lib\\site-packages\\playwright\\_impl\\_transport.py\", line 116, in connect\n",
      "    self._proc = await asyncio.create_subprocess_exec(\n",
      "  File \"c:\\Users\\zyf13\\miniconda3\\envs\\chatgpt_app_v2\\lib\\asyncio\\subprocess.py\", line 218, in create_subprocess_exec\n",
      "    transport, protocol = await loop.subprocess_exec(\n",
      "  File \"c:\\Users\\zyf13\\miniconda3\\envs\\chatgpt_app_v2\\lib\\asyncio\\base_events.py\", line 1681, in subprocess_exec\n",
      "    transport = await self._make_subprocess_transport(\n",
      "  File \"c:\\Users\\zyf13\\miniconda3\\envs\\chatgpt_app_v2\\lib\\asyncio\\base_events.py\", line 498, in _make_subprocess_transport\n",
      "    raise NotImplementedError\n",
      "NotImplementedError\n"
     ]
    },
    {
     "ename": "NotImplementedError",
     "evalue": "",
     "output_type": "error",
     "traceback": [
      "\u001b[1;31m---------------------------------------------------------------------------\u001b[0m",
      "\u001b[1;31mNotImplementedError\u001b[0m                       Traceback (most recent call last)",
      "Cell \u001b[1;32mIn[6], line 1\u001b[0m\n\u001b[1;32m----> 1\u001b[0m async_browser \u001b[39m=\u001b[39m create_async_playwright_browser()\n\u001b[0;32m      2\u001b[0m toolkit \u001b[39m=\u001b[39m PlayWrightBrowserToolkit\u001b[39m.\u001b[39mfrom_browser(async_browser\u001b[39m=\u001b[39masync_browser)\n\u001b[0;32m      3\u001b[0m tools \u001b[39m=\u001b[39m toolkit\u001b[39m.\u001b[39mget_tools()\n",
      "File \u001b[1;32mc:\\Users\\zyf13\\miniconda3\\envs\\chatgpt_app_v2\\lib\\site-packages\\langchain\\tools\\playwright\\utils.py:39\u001b[0m, in \u001b[0;36mcreate_async_playwright_browser\u001b[1;34m()\u001b[0m\n\u001b[0;32m     36\u001b[0m \u001b[39mdef\u001b[39;00m \u001b[39mcreate_async_playwright_browser\u001b[39m() \u001b[39m-\u001b[39m\u001b[39m>\u001b[39m AsyncBrowser:\n\u001b[0;32m     37\u001b[0m     \u001b[39mfrom\u001b[39;00m \u001b[39mplaywright\u001b[39;00m\u001b[39m.\u001b[39;00m\u001b[39masync_api\u001b[39;00m \u001b[39mimport\u001b[39;00m async_playwright\n\u001b[1;32m---> 39\u001b[0m     browser \u001b[39m=\u001b[39m run_async(async_playwright()\u001b[39m.\u001b[39;49mstart())\n\u001b[0;32m     40\u001b[0m     \u001b[39mreturn\u001b[39;00m run_async(browser\u001b[39m.\u001b[39mchromium\u001b[39m.\u001b[39mlaunch(headless\u001b[39m=\u001b[39m\u001b[39mTrue\u001b[39;00m))\n",
      "File \u001b[1;32mc:\\Users\\zyf13\\miniconda3\\envs\\chatgpt_app_v2\\lib\\site-packages\\langchain\\tools\\playwright\\utils.py:55\u001b[0m, in \u001b[0;36mrun_async\u001b[1;34m(coro)\u001b[0m\n\u001b[0;32m     53\u001b[0m \u001b[39mdef\u001b[39;00m \u001b[39mrun_async\u001b[39m(coro: Coroutine[Any, Any, T]) \u001b[39m-\u001b[39m\u001b[39m>\u001b[39m T:\n\u001b[0;32m     54\u001b[0m     event_loop \u001b[39m=\u001b[39m asyncio\u001b[39m.\u001b[39mget_event_loop()\n\u001b[1;32m---> 55\u001b[0m     \u001b[39mreturn\u001b[39;00m event_loop\u001b[39m.\u001b[39;49mrun_until_complete(coro)\n",
      "File \u001b[1;32mc:\\Users\\zyf13\\miniconda3\\envs\\chatgpt_app_v2\\lib\\site-packages\\nest_asyncio.py:90\u001b[0m, in \u001b[0;36m_patch_loop.<locals>.run_until_complete\u001b[1;34m(self, future)\u001b[0m\n\u001b[0;32m     87\u001b[0m \u001b[39mif\u001b[39;00m \u001b[39mnot\u001b[39;00m f\u001b[39m.\u001b[39mdone():\n\u001b[0;32m     88\u001b[0m     \u001b[39mraise\u001b[39;00m \u001b[39mRuntimeError\u001b[39;00m(\n\u001b[0;32m     89\u001b[0m         \u001b[39m'\u001b[39m\u001b[39mEvent loop stopped before Future completed.\u001b[39m\u001b[39m'\u001b[39m)\n\u001b[1;32m---> 90\u001b[0m \u001b[39mreturn\u001b[39;00m f\u001b[39m.\u001b[39;49mresult()\n",
      "File \u001b[1;32mc:\\Users\\zyf13\\miniconda3\\envs\\chatgpt_app_v2\\lib\\asyncio\\futures.py:201\u001b[0m, in \u001b[0;36mFuture.result\u001b[1;34m(self)\u001b[0m\n\u001b[0;32m    199\u001b[0m \u001b[39mself\u001b[39m\u001b[39m.\u001b[39m__log_traceback \u001b[39m=\u001b[39m \u001b[39mFalse\u001b[39;00m\n\u001b[0;32m    200\u001b[0m \u001b[39mif\u001b[39;00m \u001b[39mself\u001b[39m\u001b[39m.\u001b[39m_exception \u001b[39mis\u001b[39;00m \u001b[39mnot\u001b[39;00m \u001b[39mNone\u001b[39;00m:\n\u001b[1;32m--> 201\u001b[0m     \u001b[39mraise\u001b[39;00m \u001b[39mself\u001b[39m\u001b[39m.\u001b[39m_exception\u001b[39m.\u001b[39mwith_traceback(\u001b[39mself\u001b[39m\u001b[39m.\u001b[39m_exception_tb)\n\u001b[0;32m    202\u001b[0m \u001b[39mreturn\u001b[39;00m \u001b[39mself\u001b[39m\u001b[39m.\u001b[39m_result\n",
      "File \u001b[1;32mc:\\Users\\zyf13\\miniconda3\\envs\\chatgpt_app_v2\\lib\\asyncio\\tasks.py:232\u001b[0m, in \u001b[0;36mTask.__step\u001b[1;34m(***failed resolving arguments***)\u001b[0m\n\u001b[0;32m    228\u001b[0m \u001b[39mtry\u001b[39;00m:\n\u001b[0;32m    229\u001b[0m     \u001b[39mif\u001b[39;00m exc \u001b[39mis\u001b[39;00m \u001b[39mNone\u001b[39;00m:\n\u001b[0;32m    230\u001b[0m         \u001b[39m# We use the `send` method directly, because coroutines\u001b[39;00m\n\u001b[0;32m    231\u001b[0m         \u001b[39m# don't have `__iter__` and `__next__` methods.\u001b[39;00m\n\u001b[1;32m--> 232\u001b[0m         result \u001b[39m=\u001b[39m coro\u001b[39m.\u001b[39;49msend(\u001b[39mNone\u001b[39;49;00m)\n\u001b[0;32m    233\u001b[0m     \u001b[39melse\u001b[39;00m:\n\u001b[0;32m    234\u001b[0m         result \u001b[39m=\u001b[39m coro\u001b[39m.\u001b[39mthrow(exc)\n",
      "File \u001b[1;32mc:\\Users\\zyf13\\miniconda3\\envs\\chatgpt_app_v2\\lib\\site-packages\\playwright\\async_api\\_context_manager.py:51\u001b[0m, in \u001b[0;36mPlaywrightContextManager.start\u001b[1;34m(self)\u001b[0m\n\u001b[0;32m     50\u001b[0m \u001b[39masync\u001b[39;00m \u001b[39mdef\u001b[39;00m \u001b[39mstart\u001b[39m(\u001b[39mself\u001b[39m) \u001b[39m-\u001b[39m\u001b[39m>\u001b[39m AsyncPlaywright:\n\u001b[1;32m---> 51\u001b[0m     \u001b[39mreturn\u001b[39;00m \u001b[39mawait\u001b[39;00m \u001b[39mself\u001b[39m\u001b[39m.\u001b[39m\u001b[39m__aenter__\u001b[39m()\n",
      "File \u001b[1;32mc:\\Users\\zyf13\\miniconda3\\envs\\chatgpt_app_v2\\lib\\site-packages\\playwright\\async_api\\_context_manager.py:46\u001b[0m, in \u001b[0;36mPlaywrightContextManager.__aenter__\u001b[1;34m(self)\u001b[0m\n\u001b[0;32m     44\u001b[0m \u001b[39mif\u001b[39;00m \u001b[39mnot\u001b[39;00m playwright_future\u001b[39m.\u001b[39mdone():\n\u001b[0;32m     45\u001b[0m     playwright_future\u001b[39m.\u001b[39mcancel()\n\u001b[1;32m---> 46\u001b[0m playwright \u001b[39m=\u001b[39m AsyncPlaywright(\u001b[39mnext\u001b[39;49m(\u001b[39miter\u001b[39;49m(done))\u001b[39m.\u001b[39;49mresult())\n\u001b[0;32m     47\u001b[0m playwright\u001b[39m.\u001b[39mstop \u001b[39m=\u001b[39m \u001b[39mself\u001b[39m\u001b[39m.\u001b[39m\u001b[39m__aexit__\u001b[39m  \u001b[39m# type: ignore\u001b[39;00m\n\u001b[0;32m     48\u001b[0m \u001b[39mreturn\u001b[39;00m playwright\n",
      "File \u001b[1;32mc:\\Users\\zyf13\\miniconda3\\envs\\chatgpt_app_v2\\lib\\asyncio\\futures.py:201\u001b[0m, in \u001b[0;36mFuture.result\u001b[1;34m(self)\u001b[0m\n\u001b[0;32m    199\u001b[0m \u001b[39mself\u001b[39m\u001b[39m.\u001b[39m__log_traceback \u001b[39m=\u001b[39m \u001b[39mFalse\u001b[39;00m\n\u001b[0;32m    200\u001b[0m \u001b[39mif\u001b[39;00m \u001b[39mself\u001b[39m\u001b[39m.\u001b[39m_exception \u001b[39mis\u001b[39;00m \u001b[39mnot\u001b[39;00m \u001b[39mNone\u001b[39;00m:\n\u001b[1;32m--> 201\u001b[0m     \u001b[39mraise\u001b[39;00m \u001b[39mself\u001b[39m\u001b[39m.\u001b[39m_exception\u001b[39m.\u001b[39mwith_traceback(\u001b[39mself\u001b[39m\u001b[39m.\u001b[39m_exception_tb)\n\u001b[0;32m    202\u001b[0m \u001b[39mreturn\u001b[39;00m \u001b[39mself\u001b[39m\u001b[39m.\u001b[39m_result\n",
      "File \u001b[1;32mc:\\Users\\zyf13\\miniconda3\\envs\\chatgpt_app_v2\\lib\\site-packages\\playwright\\_impl\\_transport.py:116\u001b[0m, in \u001b[0;36mPipeTransport.connect\u001b[1;34m(self)\u001b[0m\n\u001b[0;32m    113\u001b[0m     \u001b[39mif\u001b[39;00m \u001b[39mgetattr\u001b[39m(sys, \u001b[39m\"\u001b[39m\u001b[39mfrozen\u001b[39m\u001b[39m\"\u001b[39m, \u001b[39mFalse\u001b[39;00m):\n\u001b[0;32m    114\u001b[0m         env\u001b[39m.\u001b[39msetdefault(\u001b[39m\"\u001b[39m\u001b[39mPLAYWRIGHT_BROWSERS_PATH\u001b[39m\u001b[39m\"\u001b[39m, \u001b[39m\"\u001b[39m\u001b[39m0\u001b[39m\u001b[39m\"\u001b[39m)\n\u001b[1;32m--> 116\u001b[0m     \u001b[39mself\u001b[39m\u001b[39m.\u001b[39m_proc \u001b[39m=\u001b[39m \u001b[39mawait\u001b[39;00m asyncio\u001b[39m.\u001b[39mcreate_subprocess_exec(\n\u001b[0;32m    117\u001b[0m         \u001b[39mstr\u001b[39m(\u001b[39mself\u001b[39m\u001b[39m.\u001b[39m_driver_executable),\n\u001b[0;32m    118\u001b[0m         \u001b[39m\"\u001b[39m\u001b[39mrun-driver\u001b[39m\u001b[39m\"\u001b[39m,\n\u001b[0;32m    119\u001b[0m         stdin\u001b[39m=\u001b[39masyncio\u001b[39m.\u001b[39msubprocess\u001b[39m.\u001b[39mPIPE,\n\u001b[0;32m    120\u001b[0m         stdout\u001b[39m=\u001b[39masyncio\u001b[39m.\u001b[39msubprocess\u001b[39m.\u001b[39mPIPE,\n\u001b[0;32m    121\u001b[0m         stderr\u001b[39m=\u001b[39m_get_stderr_fileno(),\n\u001b[0;32m    122\u001b[0m         limit\u001b[39m=\u001b[39m\u001b[39m32768\u001b[39m,\n\u001b[0;32m    123\u001b[0m         env\u001b[39m=\u001b[39menv,\n\u001b[0;32m    124\u001b[0m     )\n\u001b[0;32m    125\u001b[0m \u001b[39mexcept\u001b[39;00m \u001b[39mException\u001b[39;00m \u001b[39mas\u001b[39;00m exc:\n\u001b[0;32m    126\u001b[0m     \u001b[39mself\u001b[39m\u001b[39m.\u001b[39mon_error_future\u001b[39m.\u001b[39mset_exception(exc)\n",
      "File \u001b[1;32mc:\\Users\\zyf13\\miniconda3\\envs\\chatgpt_app_v2\\lib\\asyncio\\subprocess.py:218\u001b[0m, in \u001b[0;36mcreate_subprocess_exec\u001b[1;34m(program, stdin, stdout, stderr, limit, *args, **kwds)\u001b[0m\n\u001b[0;32m    215\u001b[0m loop \u001b[39m=\u001b[39m events\u001b[39m.\u001b[39mget_running_loop()\n\u001b[0;32m    216\u001b[0m protocol_factory \u001b[39m=\u001b[39m \u001b[39mlambda\u001b[39;00m: SubprocessStreamProtocol(limit\u001b[39m=\u001b[39mlimit,\n\u001b[0;32m    217\u001b[0m                                                     loop\u001b[39m=\u001b[39mloop)\n\u001b[1;32m--> 218\u001b[0m transport, protocol \u001b[39m=\u001b[39m \u001b[39mawait\u001b[39;00m loop\u001b[39m.\u001b[39msubprocess_exec(\n\u001b[0;32m    219\u001b[0m     protocol_factory,\n\u001b[0;32m    220\u001b[0m     program, \u001b[39m*\u001b[39margs,\n\u001b[0;32m    221\u001b[0m     stdin\u001b[39m=\u001b[39mstdin, stdout\u001b[39m=\u001b[39mstdout,\n\u001b[0;32m    222\u001b[0m     stderr\u001b[39m=\u001b[39mstderr, \u001b[39m*\u001b[39m\u001b[39m*\u001b[39mkwds)\n\u001b[0;32m    223\u001b[0m \u001b[39mreturn\u001b[39;00m Process(transport, protocol, loop)\n",
      "File \u001b[1;32mc:\\Users\\zyf13\\miniconda3\\envs\\chatgpt_app_v2\\lib\\asyncio\\base_events.py:1681\u001b[0m, in \u001b[0;36mBaseEventLoop.subprocess_exec\u001b[1;34m(self, protocol_factory, program, stdin, stdout, stderr, universal_newlines, shell, bufsize, encoding, errors, text, *args, **kwargs)\u001b[0m\n\u001b[0;32m   1679\u001b[0m     debug_log \u001b[39m=\u001b[39m \u001b[39mf\u001b[39m\u001b[39m'\u001b[39m\u001b[39mexecute program \u001b[39m\u001b[39m{\u001b[39;00mprogram\u001b[39m!r}\u001b[39;00m\u001b[39m'\u001b[39m\n\u001b[0;32m   1680\u001b[0m     \u001b[39mself\u001b[39m\u001b[39m.\u001b[39m_log_subprocess(debug_log, stdin, stdout, stderr)\n\u001b[1;32m-> 1681\u001b[0m transport \u001b[39m=\u001b[39m \u001b[39mawait\u001b[39;00m \u001b[39mself\u001b[39m\u001b[39m.\u001b[39m_make_subprocess_transport(\n\u001b[0;32m   1682\u001b[0m     protocol, popen_args, \u001b[39mFalse\u001b[39;00m, stdin, stdout, stderr,\n\u001b[0;32m   1683\u001b[0m     bufsize, \u001b[39m*\u001b[39m\u001b[39m*\u001b[39mkwargs)\n\u001b[0;32m   1684\u001b[0m \u001b[39mif\u001b[39;00m \u001b[39mself\u001b[39m\u001b[39m.\u001b[39m_debug \u001b[39mand\u001b[39;00m debug_log \u001b[39mis\u001b[39;00m \u001b[39mnot\u001b[39;00m \u001b[39mNone\u001b[39;00m:\n\u001b[0;32m   1685\u001b[0m     logger\u001b[39m.\u001b[39minfo(\u001b[39m'\u001b[39m\u001b[39m%s\u001b[39;00m\u001b[39m: \u001b[39m\u001b[39m%r\u001b[39;00m\u001b[39m'\u001b[39m, debug_log, transport)\n",
      "File \u001b[1;32mc:\\Users\\zyf13\\miniconda3\\envs\\chatgpt_app_v2\\lib\\asyncio\\base_events.py:498\u001b[0m, in \u001b[0;36mBaseEventLoop._make_subprocess_transport\u001b[1;34m(self, protocol, args, shell, stdin, stdout, stderr, bufsize, extra, **kwargs)\u001b[0m\n\u001b[0;32m    494\u001b[0m \u001b[39masync\u001b[39;00m \u001b[39mdef\u001b[39;00m \u001b[39m_make_subprocess_transport\u001b[39m(\u001b[39mself\u001b[39m, protocol, args, shell,\n\u001b[0;32m    495\u001b[0m                                      stdin, stdout, stderr, bufsize,\n\u001b[0;32m    496\u001b[0m                                      extra\u001b[39m=\u001b[39m\u001b[39mNone\u001b[39;00m, \u001b[39m*\u001b[39m\u001b[39m*\u001b[39mkwargs):\n\u001b[0;32m    497\u001b[0m \u001b[39m    \u001b[39m\u001b[39m\"\"\"Create subprocess transport.\"\"\"\u001b[39;00m\n\u001b[1;32m--> 498\u001b[0m     \u001b[39mraise\u001b[39;00m \u001b[39mNotImplementedError\u001b[39;00m\n",
      "\u001b[1;31mNotImplementedError\u001b[0m: "
     ]
    }
   ],
   "source": [
    "async_browser = create_async_playwright_browser()\n",
    "toolkit = PlayWrightBrowserToolkit.from_browser(async_browser=async_browser)\n",
    "tools = toolkit.get_tools()\n",
    "tools"
   ]
  },
  {
   "cell_type": "code",
   "execution_count": null,
   "metadata": {},
   "outputs": [],
   "source": [
    "tools_by_name = {tool.name: tool for tool in tools}\n",
    "navigate_tool = tools_by_name[\"navigate_browser\"]\n",
    "get_elements_tool = tools_by_name[\"get_elements\"]"
   ]
  }
 ],
 "metadata": {
  "kernelspec": {
   "display_name": "chatgpt_app_v2",
   "language": "python",
   "name": "python3"
  },
  "language_info": {
   "codemirror_mode": {
    "name": "ipython",
    "version": 3
   },
   "file_extension": ".py",
   "mimetype": "text/x-python",
   "name": "python",
   "nbconvert_exporter": "python",
   "pygments_lexer": "ipython3",
   "version": "3.9.16"
  },
  "orig_nbformat": 4
 },
 "nbformat": 4,
 "nbformat_minor": 2
}
