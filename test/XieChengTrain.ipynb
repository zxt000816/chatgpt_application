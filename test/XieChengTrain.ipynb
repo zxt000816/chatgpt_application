{
 "cells": [
  {
   "cell_type": "code",
   "execution_count": null,
   "metadata": {},
   "outputs": [],
   "source": [
    "from typing import List, Optional\n",
    "import itertools\n",
    "import requests\n",
    "\n",
    "import pandas as pd\n",
    "from pydantic import BaseModel, Field, validator\n",
    "from kor import extract_from_documents, from_pydantic, create_extraction_chain\n",
    "from kor.documents.html import MarkdownifyHTMLProcessor\n",
    "from langchain.chat_models import ChatOpenAI\n",
    "from langchain.schema import Document\n",
    "from langchain.text_splitter import RecursiveCharacterTextSplitter\n",
    "from langchain.llms.openai import OpenAI"
   ]
  },
  {
   "cell_type": "code",
   "execution_count": null,
   "metadata": {},
   "outputs": [],
   "source": [
    "# Using gpt-3.5-turbo which is pretty cheap, but has worse quality\n",
    "llm = ChatOpenAI(temperature=0)\n",
    "# llm = OpenAI(temperature=0, openai_api_key=\"YOUR_API_KEY\", model)"
   ]
  },
  {
   "cell_type": "code",
   "execution_count": null,
   "metadata": {},
   "outputs": [],
   "source": [
    "class train(BaseModel):\n",
    "    departure: str = Field(\n",
    "        description=\"出发地点\",\n",
    "    )\n",
    "    destination: str = Field(\n",
    "        description=\"到达地点\",\n",
    "    )\n",
    "    departure_time: str = Field(\n",
    "        description=\"出发时间\",\n",
    "    )\n",
    "    arrival_time: str = Field(\n",
    "        description=\"到达时间\",\n",
    "    )\n",
    "    train_number: str = Field(\n",
    "        description=\"火车班次号码\",\n",
    "    )\n",
    "    train_money: str = Field(\n",
    "        description=\"价格\",\n",
    "    )\n",
    "    time: str = Field(\n",
    "        description=\"全程时间\",\n",
    "    )\n",
    "\n",
    "\n",
    "schema, extraction_validator = from_pydantic(\n",
    "    train,\n",
    "    description=\"提取有关火车时刻表的信息，包括它们的出发、目的地、出发时间、到达时间、车次、价格和全程时间。\",\n",
    "    examples=[\n",
    "        (\n",
    "            \"\"\"\n",
    "            抢票成功率：07:40青岛2时50分D291610:30 灌南127* 5月20日09:30开售,可预约抢票,开售自动抢\n",
    "                抢* **二等座**127抢票\n",
    "                * **一等座**203抢票\n",
    "                * **无座**127抢票\n",
    "            \"\"\",\n",
    "            {\"departure\": \"青岛\", \"destination\": \"灌南\", \"departure_time\": \"07:40\", \"arrival_time\": \"10:30\", \"train_number\": \"D2916\", \"train_money\": \"127\", \"time\": \"2时50分\"},\n",
    "        ),\n",
    "        (\n",
    "            \"\"\"\n",
    "            抢票成功率：10:27青岛北2时26分G155312:53 灌南123* 5月20日09:30开售,可预约抢票,开售自动抢\n",
    "            抢* **二等座**123抢票\n",
    "            * **一等座**197抢票\n",
    "            * **商务座**370抢票\n",
    "            \"\"\",\n",
    "            {\"departure\": \"青岛北\", \"destination\": \"灌南\", \"departure_time\": \"10:27\", \"arrival_time\": \"12:53\", \"train_number\": \"G1553\", \"train_money\": \"123\", \"time\": \"2时26分\"},\n",
    "        )\n",
    "        \n",
    "    ],\n",
    "    many=True,\n",
    ")"
   ]
  },
  {
   "cell_type": "code",
   "execution_count": null,
   "metadata": {},
   "outputs": [],
   "source": [
    "chain = create_extraction_chain(\n",
    "    llm,\n",
    "    schema,\n",
    "    encoder_or_encoder_class=\"csv\",\n",
    "    validator=extraction_validator,\n",
    "    input_formatter=\"triple_quotes\",\n",
    ")"
   ]
  },
  {
   "cell_type": "code",
   "execution_count": null,
   "metadata": {},
   "outputs": [],
   "source": [
    "print(chain.prompt.format_prompt(text=\"[user input]\").to_string())"
   ]
  },
  {
   "cell_type": "code",
   "execution_count": null,
   "metadata": {},
   "outputs": [],
   "source": [
    "url = \"https://trains.ctrip.com/webapp/train/list?ticketType=0&dStation=%E9%9D%92%E5%B2%9B%E6%9C%BA%E5%9C%BA&aStation=%E9%9D%92%E5%B2%9B%E5%8C%97&dDate=2023-06-03&rDate=&trainsType=gaotie-dongche&hubCityName=&highSpeedOnly=0\"\n",
    "response = requests.get(url)  # Please see comment at top about using Selenium or"
   ]
  },
  {
   "cell_type": "code",
   "execution_count": null,
   "metadata": {},
   "outputs": [],
   "source": [
    "doc = Document(page_content=response.text)\n",
    "md = MarkdownifyHTMLProcessor().process(doc)\n",
    "md"
   ]
  },
  {
   "cell_type": "code",
   "execution_count": null,
   "metadata": {},
   "outputs": [],
   "source": [
    "md.page_content = md.page_content.split(\"### 中转方案推荐\")[0]"
   ]
  },
  {
   "cell_type": "code",
   "execution_count": null,
   "metadata": {},
   "outputs": [],
   "source": [
    "split_docs = RecursiveCharacterTextSplitter().split_documents([md])\n",
    "print(split_docs[0].page_content)\n",
    "len(split_docs)"
   ]
  },
  {
   "cell_type": "code",
   "execution_count": null,
   "metadata": {},
   "outputs": [],
   "source": [
    "from langchain.callbacks import get_openai_callback"
   ]
  },
  {
   "cell_type": "code",
   "execution_count": null,
   "metadata": {},
   "outputs": [],
   "source": [
    "with get_openai_callback() as cb:\n",
    "    document_extraction_results = await extract_from_documents(\n",
    "        chain, split_docs, max_concurrency=5, use_uid=False, return_exceptions=True\n",
    "    )\n",
    "    print(f\"Total Tokens: {cb.total_tokens}\")\n",
    "    print(f\"Prompt Tokens: {cb.prompt_tokens}\")\n",
    "    print(f\"Completion Tokens: {cb.completion_tokens}\")\n",
    "    print(f\"Successful Requests: {cb.successful_requests}\")\n",
    "    print(f\"Total Cost (USD): ${cb.total_cost}\")"
   ]
  },
  {
   "cell_type": "code",
   "execution_count": null,
   "metadata": {},
   "outputs": [],
   "source": [
    "validated_data = list(\n",
    "    itertools.chain.from_iterable(\n",
    "        extraction[\"validated_data\"] for extraction in document_extraction_results\n",
    "    )\n",
    ")"
   ]
  },
  {
   "cell_type": "code",
   "execution_count": null,
   "metadata": {},
   "outputs": [],
   "source": [
    "result = pd.DataFrame(record.dict() for record in validated_data)\n",
    "\n",
    "result[(~result['train_money'].isin(['无票', '未知'])) & (~result['time'].isin(['无票', '未知']))].query('departure == \"青岛北\"')"
   ]
  },
  {
   "cell_type": "code",
   "execution_count": null,
   "metadata": {},
   "outputs": [],
   "source": [
    "result"
   ]
  }
 ],
 "metadata": {
  "kernelspec": {
   "display_name": "chatgpt_app",
   "language": "python",
   "name": "python3"
  },
  "language_info": {
   "codemirror_mode": {
    "name": "ipython",
    "version": 3
   },
   "file_extension": ".py",
   "mimetype": "text/x-python",
   "name": "python",
   "nbconvert_exporter": "python",
   "pygments_lexer": "ipython3",
   "version": "3.10.11"
  },
  "orig_nbformat": 4
 },
 "nbformat": 4,
 "nbformat_minor": 2
}
