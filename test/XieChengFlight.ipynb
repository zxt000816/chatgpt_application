{
 "cells": [
  {
   "cell_type": "code",
   "execution_count": null,
   "metadata": {},
   "outputs": [],
   "source": [
    "from typing import List, Optional\n",
    "import itertools\n",
    "import requests\n",
    "\n",
    "import pandas as pd\n",
    "from pydantic import BaseModel, Field, validator\n",
    "from kor import extract_from_documents, from_pydantic, create_extraction_chain\n",
    "from kor.documents.html import MarkdownifyHTMLProcessor\n",
    "from langchain.chat_models import ChatOpenAI\n",
    "from langchain.schema import Document\n",
    "from langchain.text_splitter import RecursiveCharacterTextSplitter\n",
    "from langchain.llms.openai import OpenAI"
   ]
  },
  {
   "cell_type": "code",
   "execution_count": null,
   "metadata": {},
   "outputs": [],
   "source": [
    "# Using gpt-3.5-turbo which is pretty cheap, but has worse quality\n",
    "llm = ChatOpenAI(temperature=0)\n",
    "# llm = OpenAI(temperature=0, openai_api_key=\"YOUR_API_KEY\", model)"
   ]
  },
  {
   "cell_type": "code",
   "execution_count": null,
   "metadata": {},
   "outputs": [],
   "source": [
    "url = \"https://flights.ctrip.com/online/list/round-tao-sel?depdate=2023-06-03_2023-06-11&cabin=y_s&adult=1&child=0&infant=0&isbuildup=1\"\n",
    "# response = requests.get(url)  # Please see comment at top about using Selenium or"
   ]
  },
  {
   "cell_type": "code",
   "execution_count": null,
   "metadata": {},
   "outputs": [],
   "source": [
    "from langchain.document_loaders import SeleniumURLLoader\n",
    "\n",
    "document = SeleniumURLLoader(url).load()\n"
   ]
  },
  {
   "cell_type": "code",
   "execution_count": null,
   "metadata": {},
   "outputs": [],
   "source": [
    "doc = Document(page_content=response.text)\n",
    "md = MarkdownifyHTMLProcessor().process(doc)\n",
    "md"
   ]
  },
  {
   "cell_type": "code",
   "execution_count": null,
   "metadata": {},
   "outputs": [],
   "source": [
    "print(md.page_content)"
   ]
  }
 ],
 "metadata": {
  "kernelspec": {
   "display_name": "chatgpt_app",
   "language": "python",
   "name": "python3"
  },
  "language_info": {
   "codemirror_mode": {
    "name": "ipython",
    "version": 3
   },
   "file_extension": ".py",
   "mimetype": "text/x-python",
   "name": "python",
   "nbconvert_exporter": "python",
   "pygments_lexer": "ipython3",
   "version": "3.10.11"
  },
  "orig_nbformat": 4
 },
 "nbformat": 4,
 "nbformat_minor": 2
}
