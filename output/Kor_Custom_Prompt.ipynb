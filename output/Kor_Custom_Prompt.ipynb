{
 "cells": [
  {
   "cell_type": "code",
   "execution_count": 1,
   "metadata": {},
   "outputs": [],
   "source": [
    "from kor.extraction import create_extraction_chain\n",
    "from kor.nodes import Object, Text, Number\n",
    "from langchain.chat_models import ChatOpenAI\n",
    "from langchain.prompts import PromptTemplate"
   ]
  },
  {
   "cell_type": "code",
   "execution_count": 2,
   "metadata": {},
   "outputs": [],
   "source": [
    "llm = ChatOpenAI(\n",
    "    model_name=\"gpt-3.5-turbo\",\n",
    "    temperature=0,\n",
    ")\n",
    "\n",
    "schema = Object(\n",
    "    id=\"person\",\n",
    "    description=\"Personal information\",\n",
    "    examples=[\n",
    "        (\"Alice and Bob are friends\", [{\"first_name\": \"Alice\"}, {\"first_name\": \"Bob\"}])\n",
    "    ],\n",
    "    attributes=[\n",
    "        Text(\n",
    "            id=\"first_name\",\n",
    "            description=\"The first name of a person.\",\n",
    "        )\n",
    "    ],\n",
    "    many=True,\n",
    ")"
   ]
  },
  {
   "attachments": {},
   "cell_type": "markdown",
   "metadata": {},
   "source": [
    "# Create a template\n",
    "Here we create an instruction template.\n",
    "\n",
    "The template accepts 2 optional parameters:\n",
    "\n",
    "1. type_description – will be replaced with the schema type-descriptor.\n",
    "\n",
    "2. format_instructions – will be replaced with the format instructions of whichever encoder is used."
   ]
  },
  {
   "cell_type": "code",
   "execution_count": 3,
   "metadata": {},
   "outputs": [
    {
     "name": "stdout",
     "output_type": "stream",
     "text": [
      "[Pep talk for your LLM goes here]\n",
      "\n",
      "Add some type description\n",
      "\n",
      "```TypeScript\n",
      "\n",
      "person: Array<{ // Personal information\n",
      " first_name: string // The first name of a person.\n",
      "}>\n",
      "```\n",
      "\n",
      "\n",
      "Add some format instructions\n",
      "\n",
      "Please output the extracted information in CSV format in Excel dialect. Please use a | as the delimiter. \n",
      " Do NOT add any clarifying information. Output MUST follow the schema above. Do NOT add any additional columns that do not appear in the schema.\n",
      "Suffix heren\n",
      "\n",
      "\n",
      "Input: Alice and Bob are friends\n",
      "Output: first_name\n",
      "Alice\n",
      "Bob\n",
      "\n",
      "Input: hello\n",
      "Output:\n"
     ]
    }
   ],
   "source": [
    "instruction_template = PromptTemplate(\n",
    "    input_variables=[\"format_instructions\", \"type_description\"],\n",
    "    template=(\n",
    "        \"[Pep talk for your LLM goes here]\\n\\n\"\n",
    "        \"Add some type description\\n\\n\"\n",
    "        \"{type_description}\\n\\n\" # Can comment out\n",
    "        \"Add some format instructions\\n\\n\"\n",
    "        \"{format_instructions}\\n\"\n",
    "        \"Suffix heren\\n\"\n",
    "    ),\n",
    ")\n",
    "\n",
    "\n",
    "chain = create_extraction_chain(llm, schema, instruction_template=instruction_template)\n",
    "\n",
    "print(chain.prompt.format_prompt(text='hello').to_string())"
   ]
  },
  {
   "attachments": {},
   "cell_type": "markdown",
   "metadata": {},
   "source": [
    "# Custom Encoder and TypeDescriptor"
   ]
  },
  {
   "cell_type": "code",
   "execution_count": 4,
   "metadata": {},
   "outputs": [],
   "source": [
    "from kor import JSONEncoder, TypeDescriptor"
   ]
  },
  {
   "cell_type": "code",
   "execution_count": 5,
   "metadata": {},
   "outputs": [],
   "source": [
    "class CatEncoder(JSONEncoder):\n",
    "    def get_instruction_segment(self) -> str:\n",
    "        return \"Encode your response as Cat JSON enclosed in <😼> tags.\""
   ]
  },
  {
   "cell_type": "code",
   "execution_count": 6,
   "metadata": {},
   "outputs": [],
   "source": [
    "class CatType(TypeDescriptor):\n",
    "    def describe(self, node: Object) -> str:\n",
    "        \"\"\"Describe the schema of the node.\"\"\"        \n",
    "        return f\"A 😼 ate the schema of {type(node)} 😼\"\n",
    "        "
   ]
  },
  {
   "cell_type": "code",
   "execution_count": 7,
   "metadata": {},
   "outputs": [
    {
     "name": "stdout",
     "output_type": "stream",
     "text": [
      "[Pep talk for your LLM goes here]\n",
      "\n",
      "Add some type description\n",
      "\n",
      "A 😼 ate the schema of <class 'kor.nodes.Object'> 😼\n",
      "\n",
      "Add some format instructions\n",
      "\n",
      "Encode your response as Cat JSON enclosed in <😼> tags.\n",
      "Suffix heren\n",
      "\n",
      "\n",
      "Input: Alice and Bob are friends\n",
      "Output: <json>{\"person\": [{\"first_name\": \"Alice\"}, {\"first_name\": \"Bob\"}]}</json>\n",
      "Input: hello\n",
      "Output:\n"
     ]
    }
   ],
   "source": [
    "instruction_template = PromptTemplate(\n",
    "    input_variables=[\"format_instructions\", \"type_description\"],\n",
    "    template=(\n",
    "        \"[Pep talk for your LLM goes here]\\n\\n\"\n",
    "        \"Add some type description\\n\\n\"\n",
    "        \"{type_description}\\n\\n\" # Can comment out\n",
    "        \"Add some format instructions\\n\\n\"\n",
    "        \"{format_instructions}\\n\"\n",
    "        \"Suffix heren\\n\"\n",
    "    ),\n",
    ")\n",
    "\n",
    "\n",
    "chain = create_extraction_chain(llm, schema, instruction_template=instruction_template, encoder_or_encoder_class=CatEncoder, type_descriptor=CatType())\n",
    "\n",
    "print(chain.prompt.format_prompt(text='hello').to_string())"
   ]
  },
  {
   "cell_type": "code",
   "execution_count": null,
   "metadata": {},
   "outputs": [],
   "source": []
  }
 ],
 "metadata": {
  "kernelspec": {
   "display_name": "chatgpt_app",
   "language": "python",
   "name": "python3"
  },
  "language_info": {
   "codemirror_mode": {
    "name": "ipython",
    "version": 3
   },
   "file_extension": ".py",
   "mimetype": "text/x-python",
   "name": "python",
   "nbconvert_exporter": "python",
   "pygments_lexer": "ipython3",
   "version": "3.10.11"
  },
  "orig_nbformat": 4
 },
 "nbformat": 4,
 "nbformat_minor": 2
}
