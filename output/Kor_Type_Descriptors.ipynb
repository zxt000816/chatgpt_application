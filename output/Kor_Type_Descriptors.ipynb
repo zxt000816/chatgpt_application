{
 "cells": [
  {
   "cell_type": "code",
   "execution_count": 43,
   "metadata": {},
   "outputs": [],
   "source": [
    "import enum\n",
    "from typing import Optional, List\n",
    "\n",
    "from kor import from_pydantic\n",
    "from pydantic import BaseModel, Field\n",
    "from kor.extraction import create_extraction_chain\n",
    "from langchain.chat_models import ChatOpenAI"
   ]
  },
  {
   "cell_type": "code",
   "execution_count": 44,
   "metadata": {},
   "outputs": [],
   "source": [
    "\n",
    "llm = ChatOpenAI(\n",
    "    model_name=\"gpt-3.5-turbo\",\n",
    "    temperature=0,\n",
    ")"
   ]
  },
  {
   "cell_type": "code",
   "execution_count": 45,
   "metadata": {},
   "outputs": [],
   "source": [
    "class Action(enum.Enum):\n",
    "    play = \"play\"\n",
    "    stop = \"stop\"\n",
    "    previous = \"previous\"\n",
    "    next_ = \"next\"\n",
    "\n",
    "\n",
    "class MusicRequest(BaseModel):\n",
    "    song: Optional[List[str]] = Field(\n",
    "        description=\"The song(s) that the user would like to be played.\"\n",
    "    )\n",
    "    album: Optional[List[str]] = Field(\n",
    "        description=\"The album(s) that the user would like to be played.\"\n",
    "    )\n",
    "    artist: Optional[List[str]] = Field(\n",
    "        description=\"The artist(s) whose music the user would like to hear.\",\n",
    "        examples=[(\"Songs by paul simon\", \"paul simon\")],\n",
    "    )\n",
    "    action: Optional[Action] = Field(\n",
    "        description=\"The action that should be taken; one of `play`, `stop`, `next`, `previous`\",\n",
    "        examples=[\n",
    "            (\"Please stop the music\", \"stop\"),\n",
    "            (\"play something\", \"play\"),\n",
    "            (\"play a song\", \"play\"),\n",
    "            (\"next song\", \"next\"),\n",
    "        ],\n",
    "    )\n",
    "    volume: Optional[float] = Field(\n",
    "        description=\"Set the volume\",\n",
    "    )"
   ]
  },
  {
   "cell_type": "code",
   "execution_count": 46,
   "metadata": {},
   "outputs": [
    {
     "data": {
      "text/plain": [
       "Object(id='musicrequest', description='Music recorder', many=False, attributes=[Text(id='song', description='The song(s) that the user would like to be played.', many=True, examples=()), Text(id='album', description='The album(s) that the user would like to be played.', many=True, examples=()), Text(id='artist', description='The artist(s) whose music the user would like to hear.', many=True, examples=[('Songs by paul simon', 'paul simon')]), Selection(id='action', description='The action that should be taken; one of `play`, `stop`, `next`, `previous`', many=False, options=[Option(id='play', description='', many=False, examples=()), Option(id='stop', description='', many=False, examples=()), Option(id='previous', description='', many=False, examples=()), Option(id='next', description='', many=False, examples=())], examples=[('Please stop the music', 'stop'), ('play something', 'play'), ('play a song', 'play'), ('next song', 'next')], null_examples=()), Number(id='volume', description='Set the volume', many=False, examples=())], examples=())"
      ]
     },
     "execution_count": 46,
     "metadata": {},
     "output_type": "execute_result"
    }
   ],
   "source": [
    "schema, validator = from_pydantic(MusicRequest, description=\"Music recorder\")\n",
    "schema"
   ]
  },
  {
   "attachments": {},
   "cell_type": "markdown",
   "metadata": {},
   "source": [
    "# TypeScript"
   ]
  },
  {
   "cell_type": "code",
   "execution_count": 47,
   "metadata": {},
   "outputs": [],
   "source": [
    "from kor import TypeScriptDescriptor"
   ]
  },
  {
   "cell_type": "code",
   "execution_count": 48,
   "metadata": {},
   "outputs": [],
   "source": [
    "descriptor = TypeScriptDescriptor()"
   ]
  },
  {
   "cell_type": "code",
   "execution_count": 49,
   "metadata": {},
   "outputs": [
    {
     "name": "stdout",
     "output_type": "stream",
     "text": [
      "```TypeScript\n",
      "\n",
      "musicrequest: { // Music recorder\n",
      " song: Array<string> // The song(s) that the user would like to be played.\n",
      " album: Array<string> // The album(s) that the user would like to be played.\n",
      " artist: Array<string> // The artist(s) whose music the user would like to hear.\n",
      " action: \"play\" | \"stop\" | \"previous\" | \"next\" // The action that should be taken; one of `play`, `stop`, `next`, `previous`\n",
      " volume: number // Set the volume\n",
      "}\n",
      "```\n",
      "\n"
     ]
    }
   ],
   "source": [
    "print(descriptor.describe(schema))"
   ]
  },
  {
   "cell_type": "code",
   "execution_count": 50,
   "metadata": {},
   "outputs": [
    {
     "name": "stdout",
     "output_type": "stream",
     "text": [
      "Your goal is to extract structured information from the user's input that matches the form described below. When extracting information please make sure it matches the type information exactly. Do not add any attributes that do not appear in the schema shown below.\n",
      "\n",
      "```TypeScript\n",
      "\n",
      "musicrequest: { // Music recorder\n",
      " song: Array<string> // The song(s) that the user would like to be played.\n",
      " album: Array<string> // The album(s) that the user would like to be played.\n",
      " artist: Array<string> // The artist(s) whose music the user would like to hear.\n",
      " action: \"play\" | \"stop\" | \"previous\" | \"next\" // The action that should be taken; one of `play`, `stop`, `next`, `previous`\n",
      " volume: number // Set the volume\n",
      "}\n",
      "```\n",
      "\n",
      "\n",
      "Please output the extracted information in JSON format. Do not output anything except for the extracted information. Do not add any clarifying information. Do not add any fields that are not in the schema. If the text contains attributes that do not appear in the schema, please ignore them. All output must be in JSON format and follow the schema specified above. Wrap the JSON in <json> tags.\n",
      "\n",
      "\n",
      "\n",
      "Input: Songs by paul simon\n",
      "Output: <json>{\"musicrequest\": {\"artist\": [\"paul simon\"]}}</json>\n",
      "Input: Please stop the music\n",
      "Output: <json>{\"musicrequest\": {\"action\": \"stop\"}}</json>\n",
      "Input: play something\n",
      "Output: <json>{\"musicrequest\": {\"action\": \"play\"}}</json>\n",
      "Input: play a song\n",
      "Output: <json>{\"musicrequest\": {\"action\": \"play\"}}</json>\n",
      "Input: next song\n",
      "Output: <json>{\"musicrequest\": {\"action\": \"next\"}}</json>\n",
      "Input: hello\n",
      "Output:\n"
     ]
    }
   ],
   "source": [
    "chain = create_extraction_chain(llm, schema, type_descriptor=descriptor, encoder_or_encoder_class=\"json\")\n",
    "\n",
    "print(chain.prompt.format_prompt(text='hello').to_string())"
   ]
  },
  {
   "attachments": {},
   "cell_type": "markdown",
   "metadata": {},
   "source": [
    "# BulletPoint"
   ]
  },
  {
   "cell_type": "code",
   "execution_count": 51,
   "metadata": {},
   "outputs": [],
   "source": [
    "from kor import BulletPointDescriptor"
   ]
  },
  {
   "cell_type": "code",
   "execution_count": 52,
   "metadata": {},
   "outputs": [],
   "source": [
    "descriptor = BulletPointDescriptor()"
   ]
  },
  {
   "cell_type": "code",
   "execution_count": 53,
   "metadata": {},
   "outputs": [
    {
     "name": "stdout",
     "output_type": "stream",
     "text": [
      "* musicrequest: Object # Music recorder\n",
      "*  song: Text # The song(s) that the user would like to be played.\n",
      "*  album: Text # The album(s) that the user would like to be played.\n",
      "*  artist: Text # The artist(s) whose music the user would like to hear.\n",
      "*  action: Selection # The action that should be taken; one of `play`, `stop`, `next`, `previous`\n",
      "*  volume: Number # Set the volume\n"
     ]
    }
   ],
   "source": [
    "print(descriptor.describe(schema))"
   ]
  },
  {
   "cell_type": "code",
   "execution_count": 54,
   "metadata": {},
   "outputs": [
    {
     "name": "stdout",
     "output_type": "stream",
     "text": [
      "Your goal is to extract structured information from the user's input that matches the form described below. When extracting information please make sure it matches the type information exactly. Do not add any attributes that do not appear in the schema shown below.\n",
      "\n",
      "* musicrequest: Object # Music recorder\n",
      "*  song: Text # The song(s) that the user would like to be played.\n",
      "*  album: Text # The album(s) that the user would like to be played.\n",
      "*  artist: Text # The artist(s) whose music the user would like to hear.\n",
      "*  action: Selection # The action that should be taken; one of `play`, `stop`, `next`, `previous`\n",
      "*  volume: Number # Set the volume\n",
      "\n",
      "Please output the extracted information in JSON format. Do not output anything except for the extracted information. Do not add any clarifying information. Do not add any fields that are not in the schema. If the text contains attributes that do not appear in the schema, please ignore them. All output must be in JSON format and follow the schema specified above. Wrap the JSON in <json> tags.\n",
      "\n",
      "\n",
      "\n",
      "Input: Songs by paul simon\n",
      "Output: <json>{\"musicrequest\": {\"artist\": [\"paul simon\"]}}</json>\n",
      "Input: Please stop the music\n",
      "Output: <json>{\"musicrequest\": {\"action\": \"stop\"}}</json>\n",
      "Input: play something\n",
      "Output: <json>{\"musicrequest\": {\"action\": \"play\"}}</json>\n",
      "Input: play a song\n",
      "Output: <json>{\"musicrequest\": {\"action\": \"play\"}}</json>\n",
      "Input: next song\n",
      "Output: <json>{\"musicrequest\": {\"action\": \"next\"}}</json>\n",
      "Input: hello\n",
      "Output:\n"
     ]
    }
   ],
   "source": [
    "chain = create_extraction_chain(llm, schema, type_descriptor=descriptor, encoder_or_encoder_class=\"json\")\n",
    "\n",
    "print(chain.prompt.format_prompt(text='hello').to_string())"
   ]
  },
  {
   "attachments": {},
   "cell_type": "markdown",
   "metadata": {},
   "source": [
    "# Custom\n",
    "Here’s an example on how to define your own type-description."
   ]
  },
  {
   "cell_type": "code",
   "execution_count": 55,
   "metadata": {},
   "outputs": [],
   "source": [
    "from typing import Any\n",
    "\n",
    "from kor import TypeScriptDescriptor, Object\n",
    "from kor.nodes import AbstractSchemaNode"
   ]
  },
  {
   "cell_type": "code",
   "execution_count": 56,
   "metadata": {},
   "outputs": [],
   "source": [
    "class MeowDescriptor(TypeScriptDescriptor):\n",
    "    def visit_default(self, node: \"AbstractSchemaNode\", **kwargs: Any) -> List[str]:\n",
    "        \"\"\"Default action for a node.\"\"\"\n",
    "        depth = kwargs[\"depth\"]\n",
    "        space = \" \" + depth * \" ~(^._.)\" + \" \"\n",
    "        return [f\"{space}{node.id}: {node.__class__.__name__} # {node.description}\"]\n",
    "\n",
    "    def visit_object(self, node: Object, **kwargs: Any) -> List[str]:\n",
    "        \"\"\"Visit an object node.\"\"\"\n",
    "        depth = kwargs[\"depth\"]\n",
    "        code_lines = self.visit_default(node, depth=depth)\n",
    "        for child in node.attributes:\n",
    "            code_lines.extend(child.accept(self, depth=depth + 1))\n",
    "        return code_lines\n",
    "\n",
    "    def describe(self, node: Object) -> str:\n",
    "        \"\"\"Describe the type of the given node.\"\"\"\n",
    "        code_lines = node.accept(self, depth=0)\n",
    "        return \"\\n\".join(code_lines)"
   ]
  },
  {
   "cell_type": "code",
   "execution_count": 57,
   "metadata": {},
   "outputs": [
    {
     "name": "stdout",
     "output_type": "stream",
     "text": [
      "  musicrequest: Object # Music recorder\n",
      "  ~(^._.) song: Text # The song(s) that the user would like to be played.\n",
      "  ~(^._.) album: Text # The album(s) that the user would like to be played.\n",
      "  ~(^._.) artist: Text # The artist(s) whose music the user would like to hear.\n",
      "  ~(^._.) action: Selection # The action that should be taken; one of `play`, `stop`, `next`, `previous`\n",
      "  ~(^._.) volume: Number # Set the volume\n"
     ]
    }
   ],
   "source": [
    "print(MeowDescriptor().describe(schema))"
   ]
  }
 ],
 "metadata": {
  "kernelspec": {
   "display_name": "chatgpt_app",
   "language": "python",
   "name": "python3"
  },
  "language_info": {
   "codemirror_mode": {
    "name": "ipython",
    "version": 3
   },
   "file_extension": ".py",
   "mimetype": "text/x-python",
   "name": "python",
   "nbconvert_exporter": "python",
   "pygments_lexer": "ipython3",
   "version": "3.10.11"
  },
  "orig_nbformat": 4
 },
 "nbformat": 4,
 "nbformat_minor": 2
}
