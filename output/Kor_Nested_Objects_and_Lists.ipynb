{
 "cells": [
  {
   "cell_type": "code",
   "execution_count": 1,
   "metadata": {},
   "outputs": [],
   "source": [
    "from kor.extraction import create_extraction_chain\n",
    "from kor.nodes import Object, Text, Number\n",
    "from langchain.chat_models import ChatOpenAI\n",
    "from langchain.llms import OpenAI"
   ]
  },
  {
   "cell_type": "code",
   "execution_count": 2,
   "metadata": {},
   "outputs": [],
   "source": [
    "llm = ChatOpenAI(\n",
    "    model_name=\"gpt-3.5-turbo\",\n",
    "    temperature=0,\n",
    "    max_tokens=2000,\n",
    ")"
   ]
  },
  {
   "cell_type": "code",
   "execution_count": 8,
   "metadata": {},
   "outputs": [
    {
     "name": "stdout",
     "output_type": "stream",
     "text": [
      "id='from_address' description='Person moved away from this address' many=False attributes=[Text(id='street', description='', many=False, examples=()), Text(id='city', description='', many=False, examples=()), Text(id='state', description='', many=False, examples=()), Text(id='zipcode', description='', many=False, examples=()), Text(id='country', description='A country in the world; e.g., France.', many=False, examples=())] examples=[('100 Main St, Boston, MA, 23232, USA', {'street': '100 Marlo St', 'city': 'Boston', 'state': 'MA', 'zipcode': '23232', 'country': 'USA'})]\n",
      "id='to_address' description='Address to which the person is moving' many=False attributes=[Text(id='street', description='', many=False, examples=()), Text(id='city', description='', many=False, examples=()), Text(id='state', description='', many=False, examples=()), Text(id='zipcode', description='', many=False, examples=()), Text(id='country', description='A country in the world; e.g., France.', many=False, examples=())] examples=[('100 Main St, Boston, MA, 23232, USA', {'street': '100 Marlo St', 'city': 'Boston', 'state': 'MA', 'zipcode': '23232', 'country': 'USA'})]\n"
     ]
    }
   ],
   "source": [
    "from_address = Object(\n",
    "    id=\"from_address\",\n",
    "    description=\"Person moved away from this address\",\n",
    "    attributes=[\n",
    "        Text(id=\"street\"),\n",
    "        Text(id=\"city\"),\n",
    "        Text(id=\"state\"),\n",
    "        Text(id=\"zipcode\"),\n",
    "        Text(id=\"country\", description=\"A country in the world; e.g., France.\"),\n",
    "    ],\n",
    "    examples=[\n",
    "        (\n",
    "            \"100 Main St, Boston, MA, 23232, USA\",\n",
    "            {\n",
    "                \"street\": \"100 Marlo St\",\n",
    "                \"city\": \"Boston\",\n",
    "                \"state\": \"MA\",\n",
    "                \"zipcode\": \"23232\",\n",
    "                \"country\": \"USA\",\n",
    "            },\n",
    "        )\n",
    "    ],\n",
    ")\n",
    "print(from_address)\n",
    "to_address = from_address.replace(\n",
    "    id=\"to_address\", description=\"Address to which the person is moving\"\n",
    ")\n",
    "print(to_address)\n",
    "schema = Object(\n",
    "    id=\"information\",\n",
    "    attributes=[\n",
    "        Text(\n",
    "            id=\"person_name\",\n",
    "            description=\"The full name of the person or partial name\",\n",
    "            examples=[(\"John Smith was here\", \"John Smith\")],\n",
    "        ),\n",
    "        from_address,\n",
    "        to_address,\n",
    "    ],\n",
    "    many=True,\n",
    ")"
   ]
  },
  {
   "cell_type": "code",
   "execution_count": 9,
   "metadata": {},
   "outputs": [],
   "source": [
    "chain = create_extraction_chain(\n",
    "    llm, schema, encoder_or_encoder_class=\"json\", input_formatter=None\n",
    ")"
   ]
  },
  {
   "cell_type": "code",
   "execution_count": 10,
   "metadata": {},
   "outputs": [
    {
     "data": {
      "text/plain": [
       "{'information': [{'person_name': 'Alice Doe',\n",
       "   'to_address': {'city': 'Boston', 'state': 'MA'}},\n",
       "  {'person_name': 'Bob Smith', 'to_address': {'city': 'New York'}}]}"
      ]
     },
     "execution_count": 10,
     "metadata": {},
     "output_type": "execute_result"
    }
   ],
   "source": [
    "chain.predict_and_parse(\n",
    "    text=\"Alice Doe moved from New York to Boston, MA while Bob Smith did the opposite.\"\n",
    ")[\"data\"]"
   ]
  },
  {
   "cell_type": "code",
   "execution_count": 11,
   "metadata": {},
   "outputs": [
    {
     "data": {
      "text/plain": [
       "{'information': [{'person_name': 'Alice Doe',\n",
       "   'to_address': {'city': 'Boston', 'state': 'MA'}},\n",
       "  {'person_name': 'Bob Smith',\n",
       "   'to_address': {'city': 'Boston', 'state': 'MA'}},\n",
       "  {'person_name': 'Andrew', 'to_address': {'city': 'Boston', 'state': 'MA'}},\n",
       "  {'person_name': 'Joana', 'to_address': {'city': 'Boston', 'state': 'MA'}},\n",
       "  {'person_name': 'Paul', 'to_address': {'city': 'Boston', 'state': 'MA'}}]}"
      ]
     },
     "execution_count": 11,
     "metadata": {},
     "output_type": "execute_result"
    }
   ],
   "source": [
    "chain.predict_and_parse(\n",
    "    text=(\n",
    "        \"Alice Doe and Bob Smith moved from New York to Boston. Andrew was 12 years\"\n",
    "        \" old. He also moved to Boston. So did Joana and Paul. Betty did the opposite.\"\n",
    "    )\n",
    ")[\"data\"]"
   ]
  },
  {
   "cell_type": "code",
   "execution_count": 12,
   "metadata": {},
   "outputs": [],
   "source": [
    "from_address = Object(\n",
    "    id=\"from_address\",\n",
    "    description=\"Person moved away from this address\",\n",
    "    attributes=[\n",
    "        Text(id=\"street\"),\n",
    "        Text(id=\"city\"),\n",
    "        Text(id=\"state\"),\n",
    "        Text(id=\"zipcode\"),\n",
    "        Text(id=\"country\", description=\"A country in the world; e.g., France.\"),\n",
    "    ],\n",
    "    examples=[\n",
    "        (\n",
    "            \"100 Main St, Boston,MA, 23232, USA\",\n",
    "            {\n",
    "                \"street\": \"100 Marlo St\",\n",
    "                \"city\": \"Boston\",\n",
    "                \"state\": \"MA\",\n",
    "                \"zipcode\": \"23232\",\n",
    "                \"country\": \"USA\",\n",
    "            },\n",
    "        )\n",
    "    ],\n",
    "    many=True,  # <-- PLEASE NOTE THIS CHANGE\n",
    ")\n",
    "\n",
    "to_address = from_address.replace(\n",
    "    id=\"to_address\", description=\"Address to which the person is moving\"\n",
    ")\n",
    "\n",
    "schema = Object(\n",
    "    id=\"information\",\n",
    "    attributes=[\n",
    "        Text(\n",
    "            id=\"person_name\",\n",
    "            description=\"The full name of the person or partial name\",\n",
    "            examples=[(\"John Smith was here\", \"John Smith\")],\n",
    "        ),\n",
    "        from_address,\n",
    "        to_address,\n",
    "    ],\n",
    "    many=True,\n",
    ")"
   ]
  },
  {
   "cell_type": "code",
   "execution_count": 13,
   "metadata": {},
   "outputs": [],
   "source": [
    "chain = create_extraction_chain(llm, schema, encoder_or_encoder_class=\"json\")"
   ]
  },
  {
   "cell_type": "code",
   "execution_count": 16,
   "metadata": {},
   "outputs": [
    {
     "name": "stdout",
     "output_type": "stream",
     "text": [
      "Your goal is to extract structured information from the user's input that matches the form described below. When extracting information please make sure it matches the type information exactly. Do not add any attributes that do not appear in the schema shown below.\n",
      "\n",
      "```TypeScript\n",
      "\n",
      "information: Array<{ // \n",
      " person_name: string // The full name of the person or partial name\n",
      " to_address: Array<{ // Address to which the person is moving\n",
      "  street: string // \n",
      "  city: string // \n",
      "  state: string // \n",
      "  zipcode: string // \n",
      "  country: string // A country in the world; e.g., France.\n",
      " }>\n",
      " to_address: Array<{ // Address to which the person is moving\n",
      "  street: string // \n",
      "  city: string // \n",
      "  state: string // \n",
      "  zipcode: string // \n",
      "  country: string // A country in the world; e.g., France.\n",
      " }>\n",
      "}>\n",
      "```\n",
      "\n",
      "\n",
      "Please output the extracted information in JSON format. Do not output anything except for the extracted information. Do not add any clarifying information. Do not add any fields that are not in the schema. If the text contains attributes that do not appear in the schema, please ignore them. All output must be in JSON format and follow the schema specified above. Wrap the JSON in <json> tags.\n",
      "\n",
      "\n",
      "\n",
      "Input: John Smith was here\n",
      "Output: <json>{\"information\": [{\"person_name\": \"John Smith\"}]}</json>\n",
      "Input: 100 Main St, Boston,MA, 23232, USA\n",
      "Output: <json>{\"information\": [{\"to_address\": [{\"street\": \"100 Marlo St\", \"city\": \"Boston\", \"state\": \"MA\", \"zipcode\": \"23232\", \"country\": \"USA\"}]}]}</json>\n",
      "Input: 100 Main St, Boston,MA, 23232, USA\n",
      "Output: <json>{\"information\": [{\"to_address\": [{\"street\": \"100 Marlo St\", \"city\": \"Boston\", \"state\": \"MA\", \"zipcode\": \"23232\", \"country\": \"USA\"}]}]}</json>\n",
      "Input: [user input]\n",
      "Output:\n"
     ]
    }
   ],
   "source": [
    "print(chain.prompt.format_prompt(text=\"[user input]\").to_string())"
   ]
  },
  {
   "cell_type": "code",
   "execution_count": 14,
   "metadata": {},
   "outputs": [
    {
     "data": {
      "text/plain": [
       "{'information': [{'person_name': 'Alice Doe',\n",
       "   'to_address': [{'street': None,\n",
       "     'city': 'Boston',\n",
       "     'state': None,\n",
       "     'zipcode': None,\n",
       "     'country': None}]},\n",
       "  {'person_name': 'Bob Smith',\n",
       "   'to_address': [{'street': None,\n",
       "     'city': 'LA',\n",
       "     'state': None,\n",
       "     'zipcode': None,\n",
       "     'country': None}]},\n",
       "  {'person_name': None,\n",
       "   'to_address': [{'street': None,\n",
       "     'city': 'New York',\n",
       "     'state': None,\n",
       "     'zipcode': None,\n",
       "     'country': None}]},\n",
       "  {'person_name': None,\n",
       "   'to_address': [{'street': None,\n",
       "     'city': 'Boston',\n",
       "     'state': None,\n",
       "     'zipcode': None,\n",
       "     'country': None}]}]}"
      ]
     },
     "execution_count": 14,
     "metadata": {},
     "output_type": "execute_result"
    }
   ],
   "source": [
    "chain.predict_and_parse(\n",
    "    text=(\n",
    "        \"Alice Doe and Bob Smith moved from New York to Boston. Bob later moved to LA.\"\n",
    "    )\n",
    ")[\"data\"]"
   ]
  }
 ],
 "metadata": {
  "kernelspec": {
   "display_name": "chatgpt_app",
   "language": "python",
   "name": "python3"
  },
  "language_info": {
   "codemirror_mode": {
    "name": "ipython",
    "version": 3
   },
   "file_extension": ".py",
   "mimetype": "text/x-python",
   "name": "python",
   "nbconvert_exporter": "python",
   "pygments_lexer": "ipython3",
   "version": "3.10.11"
  },
  "orig_nbformat": 4
 },
 "nbformat": 4,
 "nbformat_minor": 2
}
