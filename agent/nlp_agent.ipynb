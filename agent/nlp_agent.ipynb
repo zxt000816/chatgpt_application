{
 "cells": [
  {
   "cell_type": "code",
   "execution_count": 3,
   "metadata": {},
   "outputs": [],
   "source": [
    "from dotenv import load_dotenv\n",
    "import os\n",
    "load_dotenv()\n",
    "OPENAI_API_KEY = os.getenv('OPENAI_API_KEY')"
   ]
  },
  {
   "cell_type": "code",
   "execution_count": 4,
   "metadata": {},
   "outputs": [],
   "source": [
    "from typing import List, Optional\n",
    "from langchain.chains import LLMChain\n",
    "from langchain.llms import OpenAI\n",
    "from langchain.prompts import PromptTemplate\n",
    "from langchain.requests import Requests\n",
    "from langchain.tools import APIOperation, OpenAPISpec\n",
    "from langchain.agents import AgentType, Tool, initialize_agent\n",
    "from langchain.agents.agent_toolkits import NLAToolkit"
   ]
  },
  {
   "cell_type": "code",
   "execution_count": 5,
   "metadata": {},
   "outputs": [],
   "source": [
    "# Select the LLM to use. Here, we use text-davinci-003\n",
    "llm = OpenAI(temperature=0, max_tokens=700, openai_api_key=OPENAI_API_KEY) # You can swap between different core LLM's here."
   ]
  },
  {
   "cell_type": "code",
   "execution_count": 6,
   "metadata": {},
   "outputs": [
    {
     "name": "stderr",
     "output_type": "stream",
     "text": [
      "Attempting to load an OpenAPI 3.0.1 spec.  This may result in degraded performance. Convert your OpenAPI spec to 3.1.* spec for better support.\n",
      "Attempting to load an OpenAPI 3.0.1 spec.  This may result in degraded performance. Convert your OpenAPI spec to 3.1.* spec for better support.\n",
      "Attempting to load an OpenAPI 3.0.1 spec.  This may result in degraded performance. Convert your OpenAPI spec to 3.1.* spec for better support.\n"
     ]
    }
   ],
   "source": [
    "speak_toolkit = NLAToolkit.from_llm_and_url(llm, \"https://api.speak.com/openapi.yaml\")\n",
    "klarna_toolkit = NLAToolkit.from_llm_and_url(llm, \"https://www.klarna.com/us/shopping/public/openai/v0/api-docs/\")"
   ]
  },
  {
   "cell_type": "code",
   "execution_count": 7,
   "metadata": {},
   "outputs": [],
   "source": [
    "# Slightly tweak the instructions from the default agent\n",
    "openapi_format_instructions = \"\"\"Use the following format:\n",
    "\n",
    "Question: the input question you must answer\n",
    "Thought: you should always think about what to do\n",
    "Action: the action to take, should be one of [{tool_names}]\n",
    "Action Input: what to instruct the AI Action representative.\n",
    "Observation: The Agent's response\n",
    "... (this Thought/Action/Action Input/Observation can repeat N times)\n",
    "Thought: I now know the final answer. User can't see any of my observations, API responses, links, or tools.\n",
    "Final Answer: the final answer to the original input question with the right amount of detail\n",
    "\n",
    "When responding with your Final Answer, remember that the person you are responding to CANNOT see any of your Thought/Action/Action Input/Observations, so if there is any relevant information there you need to include it explicitly in your response.\"\"\""
   ]
  },
  {
   "cell_type": "code",
   "execution_count": 8,
   "metadata": {},
   "outputs": [],
   "source": [
    "natural_language_tools = speak_toolkit.get_tools() + klarna_toolkit.get_tools()\n",
    "mrkl = initialize_agent(natural_language_tools, llm, agent=AgentType.ZERO_SHOT_REACT_DESCRIPTION, \n",
    "                        verbose=True, agent_kwargs={\"format_instructions\":openapi_format_instructions})"
   ]
  },
  {
   "cell_type": "code",
   "execution_count": 9,
   "metadata": {},
   "outputs": [
    {
     "name": "stdout",
     "output_type": "stream",
     "text": [
      "\n",
      "\n",
      "\u001b[1m> Entering new AgentExecutor chain...\u001b[0m\n",
      "\u001b[32;1m\u001b[1;3m I need to find out what kind of Italian clothes are available\n",
      "Action: Open_AI_Klarna_product_Api.productsUsingGET\n",
      "Action Input: Italian clothes\u001b[0m\n",
      "Observation: \u001b[31;1m\u001b[1;3mThe API response contains two products from the Alé brand in Italian Blue. The first is the Alé Dolid Flash Jersey Men for $40.00 and the second is the Alé Colour Block Short Sleeve Jersey Men for $86.99.\u001b[0m\n",
      "Thought:\u001b[32;1m\u001b[1;3m I now know what Italian clothes are available.\n",
      "Final Answer: You can purchase two products from the Alé brand in Italian Blue for your end of year party. The first is the Alé Dolid Flash Jersey Men for $40.00 and the second is the Alé Colour Block Short Sleeve Jersey Men for $86.99.\u001b[0m\n",
      "\n",
      "\u001b[1m> Finished chain.\u001b[0m\n"
     ]
    },
    {
     "data": {
      "text/plain": [
       "'You can purchase two products from the Alé brand in Italian Blue for your end of year party. The first is the Alé Dolid Flash Jersey Men for $40.00 and the second is the Alé Colour Block Short Sleeve Jersey Men for $86.99.'"
      ]
     },
     "execution_count": 9,
     "metadata": {},
     "output_type": "execute_result"
    }
   ],
   "source": [
    "mrkl.run(\"I have an end of year party for my Italian class and have to buy some Italian clothes for it\")"
   ]
  }
 ],
 "metadata": {
  "kernelspec": {
   "display_name": "chatgpt_app_v2",
   "language": "python",
   "name": "python3"
  },
  "language_info": {
   "codemirror_mode": {
    "name": "ipython",
    "version": 3
   },
   "file_extension": ".py",
   "mimetype": "text/x-python",
   "name": "python",
   "nbconvert_exporter": "python",
   "pygments_lexer": "ipython3",
   "version": "3.9.16"
  },
  "orig_nbformat": 4
 },
 "nbformat": 4,
 "nbformat_minor": 2
}
