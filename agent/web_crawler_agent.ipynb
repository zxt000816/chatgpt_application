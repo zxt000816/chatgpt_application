{
 "cells": [
  {
   "cell_type": "code",
   "execution_count": 1,
   "metadata": {},
   "outputs": [],
   "source": [
    "from langchain.llms import OpenAI\n",
    "from langchain.chains import LLMRequestsChain, LLMChain\n",
    "from langchain.callbacks import get_openai_callback\n",
    "from utils import ask_agent, ask_chain"
   ]
  },
  {
   "cell_type": "code",
   "execution_count": 2,
   "metadata": {},
   "outputs": [
    {
     "name": "stderr",
     "output_type": "stream",
     "text": [
      "/home/yifan/miniconda3/envs/chatgpt_app/lib/python3.10/site-packages/langchain/llms/openai.py:169: UserWarning: You are trying to use a chat model. This way of initializing it is no longer supported. Instead, please use: `from langchain.chat_models import ChatOpenAI`\n",
      "  warnings.warn(\n",
      "/home/yifan/miniconda3/envs/chatgpt_app/lib/python3.10/site-packages/langchain/llms/openai.py:696: UserWarning: You are trying to use a chat model. This way of initializing it is no longer supported. Instead, please use: `from langchain.chat_models import ChatOpenAI`\n",
      "  warnings.warn(\n"
     ]
    }
   ],
   "source": [
    "llm = OpenAI(temperature=0, model_name='gpt-3.5-turbo')"
   ]
  },
  {
   "cell_type": "code",
   "execution_count": 3,
   "metadata": {},
   "outputs": [],
   "source": [
    "from langchain.prompts import PromptTemplate\n",
    "\n",
    "template = \"\"\"Between >>> and <<< are the raw search result text from provided RSS URL.\n",
    "Extract the answer to the question '{query}' or say \"not found\" if the information is not contained, and summarize all the information.\n",
    ">>> {requests_result} <<<\n",
    "Use the following JSON format to include all the titles:\n",
    "{{\n",
    "  \"titles\": [\n",
    "    'aaa',\n",
    "    'bbb',\n",
    "  ]\n",
    "}} \n",
    "Extracted:\"\"\"\n",
    "\n",
    "PROMPT = PromptTemplate(\n",
    "    input_variables=[\"query\", \"requests_result\"],\n",
    "    template=template,\n",
    ")"
   ]
  },
  {
   "cell_type": "code",
   "execution_count": 4,
   "metadata": {},
   "outputs": [],
   "source": [
    "chain = LLMRequestsChain(llm_chain = LLMChain(llm=llm, prompt=PROMPT))"
   ]
  },
  {
   "cell_type": "code",
   "execution_count": 5,
   "metadata": {},
   "outputs": [],
   "source": [
    "question = \"What are all the titles in this RSS feed?\"\n",
    "inputs = {\n",
    "    \"query\": question,\n",
    "    \"url\": \"https://rss.nytimes.com/services/xml/rss/nyt/US.xml\"\n",
    "}\n"
   ]
  },
  {
   "cell_type": "code",
   "execution_count": 6,
   "metadata": {},
   "outputs": [
    {
     "name": "stderr",
     "output_type": "stream",
     "text": [
      "/home/yifan/miniconda3/envs/chatgpt_app/lib/python3.10/site-packages/bs4/builder/__init__.py:545: XMLParsedAsHTMLWarning: It looks like you're parsing an XML document using an HTML parser. If this really is an HTML document (maybe it's XHTML?), you can ignore or filter this warning. If it's XML, you should know that using an XML parser will be more reliable. To parse this document as XML, make sure you have the lxml package installed, and pass the keyword argument `features=\"xml\"` into the BeautifulSoup constructor.\n",
      "  warnings.warn(\n"
     ]
    },
    {
     "name": "stdout",
     "output_type": "stream",
     "text": [
      "Total Tokens: 2453\n",
      "Prompt Tokens: 2229\n",
      "Completion Tokens: 224\n",
      "Successful Requests: 1\n",
      "Total Cost (USD): $0.004906\n"
     ]
    }
   ],
   "source": [
    "response = ask_chain(chain, inputs)"
   ]
  },
  {
   "cell_type": "code",
   "execution_count": 7,
   "metadata": {},
   "outputs": [
    {
     "name": "stdout",
     "output_type": "stream",
     "text": [
      "{\n",
      "  \"titles\": [\n",
      "    \"Title 42 Is Gone, but Not the Conditions Driving Migrants to the U.S.\",\n",
      "    \"‘A Daily Game of Russian Roulette’: Homeless in San Diego\",\n",
      "    \"North Carolina Governor Vetoes Abortion Ban but Faces Override\",\n",
      "    \"Behind the Heartbeat of Hawaii\",\n",
      "    \"Abortion Showdown in North Carolina May Hinge on a Single Vote\",\n",
      "    \"Nikki Haley Says Pledging a Federal Abortion Ban Wouldn’t Be ‘Honest’\",\n",
      "    \"5 Moments That Defined Trump’s Record on Immigration\",\n",
      "    \"Rules for Pentagon Use of Proxy Forces Shed Light on a Shadowy War Power\",\n",
      "    \"Meet ‘Chonkosaurus,’ the Thick Snapping Turtle Stealing Hearts\",\n",
      "    \"DeSantis Impresses Voters and Trolls Trump in Iowa Swing\",\n",
      "    \"Before Title 42, Congress Failed to Overhaul Immigration Policy\"\n",
      "  ]\n",
      "}\n",
      "\n",
      "Summary: The RSS feed contains news articles on various topics such as immigration, homelessness, abortion, politics, and wildlife. The titles of the articles are provided in the raw search result text.\n"
     ]
    }
   ],
   "source": [
    "print(response['output'])"
   ]
  },
  {
   "cell_type": "code",
   "execution_count": 8,
   "metadata": {},
   "outputs": [],
   "source": [
    "template = \"\"\"在 >>> 和 <<< 之间是网页的返回的HTML内容。\n",
    "\n",
    "网页是新浪财经A股上市公司的每季度股东信息表格。\n",
    "\n",
    "请抽取参数请求的信息。每个截至日期作为JSON返回数据的date_of_quarter。因此，当表格中有多个截止日期时，返回数据应当包括所有的日期作为key。\n",
    " \n",
    ">>> {requests_result} <<<\n",
    "请使用如下的JSON格式返回数据\n",
    "{{\n",
    "  \"date_of_quarter\": [\n",
    "    {{\n",
    "      \"holder_name\": \"a\",\n",
    "      \"percentage\": \"50\"\n",
    "    }},\n",
    "    {{\n",
    "      \"holder_name\": \"b\",\n",
    "      \"percentage\": \"30\"\n",
    "    }},\n",
    "  ]\n",
    "}} \n",
    "\n",
    "例如，截至日期为2023-03-31，JSON数据应该是如下形式:\n",
    "\n",
    "{{\n",
    "  \"2023-03-31\": [\n",
    "    {{\n",
    "      \"holder_name\": \"a\",\n",
    "      \"percentage\": \"50\"\n",
    "    }},\n",
    "    {{\n",
    "      \"holder_name\": \"b\",\n",
    "      \"percentage\": \"30\"\n",
    "    }},\n",
    "  ]\n",
    "}}\n",
    "Extracted:\"\"\"\n",
    "\n",
    "PROMPT = PromptTemplate(\n",
    "    input_variables=[\"requests_result\"],\n",
    "    template=template,\n",
    ")\n",
    "\n",
    "chain = LLMRequestsChain(llm_chain = LLMChain(llm=llm, prompt=PROMPT))"
   ]
  },
  {
   "cell_type": "code",
   "execution_count": 9,
   "metadata": {},
   "outputs": [],
   "source": [
    "inputs = {\n",
    "    \"url\": \"https://vip.stock.finance.sina.com.cn/corp/go.php/vCI_StockHolder/stockid/600519/displaytype/30.phtml\"\n",
    "}"
   ]
  },
  {
   "cell_type": "code",
   "execution_count": 10,
   "metadata": {},
   "outputs": [
    {
     "name": "stdout",
     "output_type": "stream",
     "text": [
      "Total Tokens: 4097\n",
      "Prompt Tokens: 3089\n",
      "Completion Tokens: 1008\n",
      "Successful Requests: 1\n",
      "Total Cost (USD): $0.008194\n"
     ]
    }
   ],
   "source": [
    "response = ask_chain(chain, inputs)"
   ]
  },
  {
   "cell_type": "code",
   "execution_count": 11,
   "metadata": {},
   "outputs": [
    {
     "name": "stdout",
     "output_type": "stream",
     "text": [
      "{\n",
      "  \"2023-03-31\": [\n",
      "    {\n",
      "      \"holder_name\": \"中国贵州茅台酒厂(集团)有限责任公司\",\n",
      "      \"percentage\": \"54.06\"\n",
      "    },\n",
      "    {\n",
      "      \"holder_name\": \"香港中央结算有限公司\",\n",
      "      \"percentage\": \"7.26\"\n",
      "    },\n",
      "    {\n",
      "      \"holder_name\": \"贵州省国有资本运营有限责任公司\",\n",
      "      \"percentage\": \"4.54\"\n",
      "    },\n",
      "    {\n",
      "      \"holder_name\": \"贵州茅台酒厂(集团)技术开发有限公司\",\n",
      "      \"percentage\": \"2.22\"\n",
      "    },\n",
      "    {\n",
      "      \"holder_name\": \"中央汇金资产管理有限责任公司\",\n",
      "      \"percentage\": \"0.83\"\n",
      "    },\n",
      "    {\n",
      "      \"holder_name\": \"深圳市金汇荣盛财富管理有限公司-金汇荣盛三号私募证券投资基金\",\n",
      "      \"percentage\": \"0.66\"\n",
      "    },\n",
      "    {\n",
      "      \"holder_name\": \"珠海市瑞丰汇邦资产管理有限公司-瑞丰汇邦三号私募证券投资基金\",\n",
      "      \"percentage\": \"0.65\"\n",
      "    },\n",
      "    {\n",
      "      \"holder_name\": \"中国证券金融股份有限公司\",\n",
      "      \"percentage\": \"0.64\"\n",
      "    },\n",
      "    {\n",
      "      \"holder_name\": \"中国工商银行-上证50交易型开放式指数证券投资基金\",\n",
      "      \"percentage\": \"0.39\"\n",
      "    },\n",
      "    {\n",
      "      \"holder_name\": \"中国人寿保险股份有限公司-传统-普通保险产品-005L-CT001沪\",\n",
      "      \"percentage\": \"0.32\"\n",
      "    }\n",
      "  ],\n",
      "  \"2022-12-31\": [\n",
      "    {\n",
      "      \"holder_name\": \"中国贵州茅台酒厂(集团)有限责任公司\",\n",
      "      \"percentage\": \"54\"\n",
      "    },\n",
      "    {\n",
      "      \"holder_name\": \"香港中央结算有限公司\",\n",
      "      \"percentage\": \"6.75\"\n",
      "    },\n",
      "    {\n",
      "      \"holder_name\": \"贵州省国有资本运营有限责任公司\",\n",
      "      \"percentage\": \"4.54\"\n",
      "    },\n",
      "    {\n",
      "      \"holder_name\": \"贵州茅台酒厂(集团)技术开发有限公司\",\n",
      "      \"percentage\": \"2.21\"\n",
      "    },\n",
      "    {\n",
      "      \"holder_name\": \"中央汇金资产管理有限责任公司\",\n",
      "      \"percentage\": \"0.83\"\n",
      "    },\n",
      "    {\n",
      "      \"holder_name\": \"中国证券金融股份有限公司\",\n",
      "      \"percentage\": \"0.64\"\n",
      "    },\n",
      "    {\n",
      "      \"holder_name\": \"深圳市金汇荣盛财富管理有限公司－金汇荣盛三号私募证券投资基金\",\n",
      "      \"percentage\": \"0.61\"\n",
      "    },\n",
      "    {\n",
      "      \"holder_name\": \"珠海市瑞丰汇邦资产管理有限公司－瑞丰汇邦三号私募证券投资基金\",\n",
      "      \"percentage\": \"0.6\"\n",
      "    },\n",
      "    {\n",
      "      \"holder_name\": \"中国银行股份有限公司－招商中证白酒指数分级证券投资基金\",\n",
      "      \"percentage\": \"0.43\"\n",
      "    },\n",
      "    {\n",
      "      \"holder_name\": \"中国工商银行－上证50交易型开放式指数证券投资基金\",\n",
      "      \"percentage\": \"0.43\"\n",
      "    }\n",
      "  ],\n",
      "  \"2022-09-30\": [\n",
      "    {\n",
      "      \"holder_name\": \"中国贵州茅台酒厂(集团)有限责任公司\",\n",
      "      \"percentage\": \"54\"\n",
      "    },\n",
      "    {\n",
      "      \"holder_name\": \"香港中央结算有限公司\",\n",
      "      \"percentage\": \"7.31\"\n",
      "    },\n",
      "    {\n",
      "      \"holder_name\": \"贵州省国有资本运营有限责任\n"
     ]
    }
   ],
   "source": [
    "# response = chain(inputs)\n",
    "print(response['output'])"
   ]
  },
  {
   "cell_type": "code",
   "execution_count": null,
   "metadata": {},
   "outputs": [],
   "source": [
    "template = \"\"\"在 >>> 和 <<< 之间是网页的返回的HTML内容。\n",
    "\n",
    "网页展示了在携程上搜索青岛北站和灌南站之间的高铁班次的结果。\n",
    "\n",
    "请抽取参数请求的信息。将\"青岛北\"和\"灌南\"之间的班次数量作为JSON返回数据的train_number。因此，当有多个班次时，返回数据应当包括所有的班次作为key。\n",
    "注意: JSON数据中的target和source这两个key必须为\"青岛北\"或者\"灌南\".\n",
    " \n",
    ">>> {requests_result} <<<\n",
    "请使用如下的JSON格式返回数据\n",
    "{{\n",
    "  \"train_number\": [\n",
    "    {{\n",
    "      \"train_id\": \"D2913\",\n",
    "      \"source\": \"青岛北\",\n",
    "      \"target\": \"灌南\",\n",
    "      \"source_time\": \"07:00\",\n",
    "      \"target_time\": \"09:30\",\n",
    "      \"duration\": \"2小时30分\",\n",
    "      \"price\": \"￥99.5\"\n",
    "    }},\n",
    "    {{\n",
    "      \"train_id\": \"G1553\",\n",
    "      \"source\": \"灌南\",\n",
    "      \"target\": \"青岛北\",\n",
    "      \"source_time\": \"10:00\",\n",
    "      \"target_time\": \"12:30\",\n",
    "      \"duration\": \"2小时51分\",\n",
    "      \"price\": \"￥110\"\n",
    "    }},\n",
    "  ]\n",
    "}} \n",
    "\n",
    "例如，当青岛北到灌南之间班次数量为2时，JSON数据应该是如下形式:\n",
    "{{\n",
    "  \"2\": [\n",
    "    {{\n",
    "      \"train_id\": \"D2913\",\n",
    "      \"source\": \"青岛北\",\n",
    "      \"target\": \"灌南\",\n",
    "      \"source_time\": \"07:00\",\n",
    "      \"target_time\": \"09:30\",\n",
    "      \"duration\": \"2小时30分\",\n",
    "      \"price\": \"￥99.5\"\n",
    "    }},\n",
    "    {{\n",
    "      \"train_id\": \"G1553\",\n",
    "      \"source\": \"灌南\",\n",
    "      \"target\": \"青岛北\",\n",
    "      \"source_time\": \"10:00\",\n",
    "      \"target_time\": \"12:30\",\n",
    "      \"duration\": \"2小时51分\",\n",
    "      \"price\": \"￥110\"\n",
    "    }},\n",
    "  ]\n",
    "}} \n",
    "}}\n",
    "Extracted:\"\"\"\n",
    "\n",
    "PROMPT = PromptTemplate(\n",
    "    input_variables=[\"requests_result\"],\n",
    "    template=template,\n",
    ")\n",
    "\n",
    "chain = LLMRequestsChain(llm_chain = LLMChain(llm=llm, prompt=PROMPT))"
   ]
  },
  {
   "cell_type": "code",
   "execution_count": 41,
   "metadata": {},
   "outputs": [],
   "source": [
    "inputs = {\n",
    "    \"url\": \"https://trains.ctrip.com/webapp/train/list?ticketType=1&dStation=%E9%9D%92%E5%B2%9B%E5%8C%97&aStation=%E7%81%8C%E5%8D%97&dDate=2023-06-03&rDate=2023-06-11&trainsType=gaotie-dongche&hubCityName=&highSpeedOnly=0\"\n",
    "}"
   ]
  },
  {
   "cell_type": "code",
   "execution_count": 42,
   "metadata": {},
   "outputs": [
    {
     "name": "stdout",
     "output_type": "stream",
     "text": [
      "Total Tokens: 4093\n",
      "Prompt Tokens: 3293\n",
      "Completion Tokens: 800\n",
      "Successful Requests: 1\n",
      "Total Cost (USD): $0.008186\n"
     ]
    }
   ],
   "source": [
    "response = ask_chain(chain, inputs)"
   ]
  },
  {
   "cell_type": "code",
   "execution_count": 43,
   "metadata": {},
   "outputs": [
    {
     "name": "stdout",
     "output_type": "stream",
     "text": [
      "{\n",
      "  \"train_number\": [\n",
      "    {\n",
      "      \"train_id\": \"D2916\",\n",
      "      \"source\": \"青岛北\",\n",
      "      \"target\": \"灌南\",\n",
      "      \"source_time\": \"07:40\",\n",
      "      \"target_time\": \"10:30\",\n",
      "      \"duration\": \"2小时50分\",\n",
      "      \"price\": \"￥127\"\n",
      "    },\n",
      "    {\n",
      "      \"train_id\": \"D2913\",\n",
      "      \"source\": \"青岛北\",\n",
      "      \"target\": \"灌南\",\n",
      "      \"source_time\": \"08:02\",\n",
      "      \"target_time\": \"10:30\",\n",
      "      \"duration\": \"2小时28分\",\n",
      "      \"price\": \"￥121\"\n",
      "    },\n",
      "    {\n",
      "      \"train_id\": \"D2923\",\n",
      "      \"source\": \"青岛西\",\n",
      "      \"target\": \"灌南\",\n",
      "      \"source_time\": \"08:53\",\n",
      "      \"target_time\": \"11:07\",\n",
      "      \"duration\": \"2小时14分\",\n",
      "      \"price\": \"￥94\"\n",
      "    },\n",
      "    {\n",
      "      \"train_id\": \"G1552\",\n",
      "      \"source\": \"青岛\",\n",
      "      \"target\": \"灌南\",\n",
      "      \"source_time\": \"10:02\",\n",
      "      \"target_time\": \"12:53\",\n",
      "      \"duration\": \"2小时51分\",\n",
      "      \"price\": \"￥129\"\n",
      "    },\n",
      "    {\n",
      "      \"train_id\": \"G1553\",\n",
      "      \"source\": \"青岛北\",\n",
      "      \"target\": \"灌南\",\n",
      "      \"source_time\": \"10:27\",\n",
      "      \"target_time\": \"12:53\",\n",
      "      \"duration\": \"2小时26分\",\n",
      "      \"price\": \"￥123\"\n",
      "    },\n",
      "    {\n",
      "      \"train_id\": \"G1553\",\n",
      "      \"source\": \"灌南\",\n",
      "      \"target\": \"青岛北\",\n",
      "      \"source_time\": \"15:48\",\n",
      "      \"target_time\": \"18:09\",\n",
      "      \"duration\": \"2小时21分\",\n",
      "      \"price\": \"￥123\"\n",
      "    },\n",
      "    {\n",
      "      \"train_id\": \"G1554\",\n",
      "      \"source\": \"灌南\",\n",
      "      \"target\": \"青岛\",\n",
      "      \"source_time\": \"15:52\",\n",
      "      \"target_time\": \"18:38\",\n",
      "      \"duration\": \"2小时46分\",\n",
      "      \"price\": \"￥123\"\n",
      "    },\n",
      "    {\n",
      "      \"train_id\": \"G1554\",\n",
      "      \"source\": \"灌南\",\n",
      "      \"target\": \"青岛北\",\n",
      "      \"source_time\": \"15:52\",\n",
      "      \"target_time\": \"19:00\",\n",
      "      \"duration\": \"3小时8分\",\n",
      "      \"price\": \"￥129\"\n",
      "    },\n",
      "    {\n",
      "      \"train_id\": \"D2874\",\n",
      "      \"source\": \"灌南\",\n",
      "      \"target\": \"青岛西\",\n",
      "      \"source_time\": \"17:25\",\n",
      "      \"target_time\": \"19:31\",\n",
      "      \"duration\": \"2小时6分\",\n",
      "      \"price\": \"￥94\"\n",
      "    },\n",
      "    {\n",
      "      \"train_id\": \"D2914\",\n",
      "      \"source\": \"灌南\",\n",
      "      \"target\": \"青岛北\",\n",
      "      \"source_time\": \"18:10\",\n",
      "      \"target_time\": \"20:04\",\n",
      "      \"duration\": \"1小时54分\",\n",
      "      \"price\": \"￥94\"\n",
      "    },\n",
      "    {\n",
      "      \"train_id\": \"D2914\",\n",
      "      \"source\": \"灌南\",\n",
      "      \"target\": \"青岛北\",\n",
      "      \"source_time\": \"18:10\",\n",
      "      \"target_time\": \"20:04\",\n",
      "      \"duration\": \"1小时54分\",\n",
      "      \"price\": \"￥94\"\n",
      "    }\n",
      "  ]\n",
      "}\n"
     ]
    }
   ],
   "source": [
    "print(response['output'])"
   ]
  }
 ],
 "metadata": {
  "kernelspec": {
   "display_name": "chatgpt_app",
   "language": "python",
   "name": "python3"
  },
  "language_info": {
   "codemirror_mode": {
    "name": "ipython",
    "version": 3
   },
   "file_extension": ".py",
   "mimetype": "text/x-python",
   "name": "python",
   "nbconvert_exporter": "python",
   "pygments_lexer": "ipython3",
   "version": "3.10.11"
  },
  "orig_nbformat": 4
 },
 "nbformat": 4,
 "nbformat_minor": 2
}
