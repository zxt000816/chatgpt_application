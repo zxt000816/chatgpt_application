{
 "cells": [
  {
   "cell_type": "code",
   "execution_count": 2,
   "metadata": {},
   "outputs": [],
   "source": [
    "from langchain.agents.agent_toolkits import PlayWrightBrowserToolkit\n",
    "from langchain.tools.playwright.utils import (\n",
    "    create_async_playwright_browser,\n",
    "    create_sync_playwright_browser,# A synchronous browser is available, though it isn't compatible with jupyter.\n",
    ")"
   ]
  },
  {
   "cell_type": "code",
   "execution_count": 3,
   "metadata": {},
   "outputs": [],
   "source": [
    "# This import is required only for jupyter notebooks, since they have their own eventloop\n",
    "import nest_asyncio\n",
    "nest_asyncio.apply()"
   ]
  },
  {
   "cell_type": "code",
   "execution_count": 4,
   "metadata": {},
   "outputs": [
    {
     "data": {
      "text/plain": [
       "[ClickTool(name='click_element', description='Click on an element with the given CSS selector', args_schema=<class 'langchain.tools.playwright.click.ClickToolInput'>, return_direct=False, verbose=False, callbacks=None, callback_manager=None, sync_browser=None, async_browser=<Browser type=<BrowserType name=chromium executable_path=/home/yifan/.cache/ms-playwright/chromium-1060/chrome-linux/chrome> version=113.0.5672.53>),\n",
       " NavigateTool(name='navigate_browser', description='Navigate a browser to the specified URL', args_schema=<class 'langchain.tools.playwright.navigate.NavigateToolInput'>, return_direct=False, verbose=False, callbacks=None, callback_manager=None, sync_browser=None, async_browser=<Browser type=<BrowserType name=chromium executable_path=/home/yifan/.cache/ms-playwright/chromium-1060/chrome-linux/chrome> version=113.0.5672.53>),\n",
       " NavigateBackTool(name='previous_webpage', description='Navigate back to the previous page in the browser history', args_schema=<class 'pydantic.main.BaseModel'>, return_direct=False, verbose=False, callbacks=None, callback_manager=None, sync_browser=None, async_browser=<Browser type=<BrowserType name=chromium executable_path=/home/yifan/.cache/ms-playwright/chromium-1060/chrome-linux/chrome> version=113.0.5672.53>),\n",
       " ExtractTextTool(name='extract_text', description='Extract all the text on the current webpage', args_schema=<class 'pydantic.main.BaseModel'>, return_direct=False, verbose=False, callbacks=None, callback_manager=None, sync_browser=None, async_browser=<Browser type=<BrowserType name=chromium executable_path=/home/yifan/.cache/ms-playwright/chromium-1060/chrome-linux/chrome> version=113.0.5672.53>),\n",
       " ExtractHyperlinksTool(name='extract_hyperlinks', description='Extract all hyperlinks on the current webpage', args_schema=<class 'langchain.tools.playwright.extract_hyperlinks.ExtractHyperlinksToolInput'>, return_direct=False, verbose=False, callbacks=None, callback_manager=None, sync_browser=None, async_browser=<Browser type=<BrowserType name=chromium executable_path=/home/yifan/.cache/ms-playwright/chromium-1060/chrome-linux/chrome> version=113.0.5672.53>),\n",
       " GetElementsTool(name='get_elements', description='Retrieve elements in the current web page matching the given CSS selector', args_schema=<class 'langchain.tools.playwright.get_elements.GetElementsToolInput'>, return_direct=False, verbose=False, callbacks=None, callback_manager=None, sync_browser=None, async_browser=<Browser type=<BrowserType name=chromium executable_path=/home/yifan/.cache/ms-playwright/chromium-1060/chrome-linux/chrome> version=113.0.5672.53>),\n",
       " CurrentWebPageTool(name='current_webpage', description='Returns the URL of the current page', args_schema=<class 'pydantic.main.BaseModel'>, return_direct=False, verbose=False, callbacks=None, callback_manager=None, sync_browser=None, async_browser=<Browser type=<BrowserType name=chromium executable_path=/home/yifan/.cache/ms-playwright/chromium-1060/chrome-linux/chrome> version=113.0.5672.53>)]"
      ]
     },
     "execution_count": 4,
     "metadata": {},
     "output_type": "execute_result"
    }
   ],
   "source": [
    "async_browser = create_async_playwright_browser()\n",
    "toolkit = PlayWrightBrowserToolkit.from_browser(async_browser=async_browser)\n",
    "tools = toolkit.get_tools()\n",
    "tools"
   ]
  },
  {
   "cell_type": "code",
   "execution_count": 5,
   "metadata": {},
   "outputs": [],
   "source": [
    "tools_by_name = {tool.name: tool for tool in tools}\n",
    "navigate_tool = tools_by_name[\"navigate_browser\"]\n",
    "get_elements_tool = tools_by_name[\"get_elements\"]"
   ]
  },
  {
   "cell_type": "code",
   "execution_count": 6,
   "metadata": {},
   "outputs": [
    {
     "data": {
      "text/plain": [
       "'Navigating to https://web.archive.org/web/20230428131116/https://www.cnn.com/world returned status code 200'"
      ]
     },
     "execution_count": 6,
     "metadata": {},
     "output_type": "execute_result"
    }
   ],
   "source": [
    "await navigate_tool.arun({\"url\": \"https://web.archive.org/web/20230428131116/https://www.cnn.com/world\"})"
   ]
  },
  {
   "cell_type": "code",
   "execution_count": 7,
   "metadata": {},
   "outputs": [
    {
     "data": {
      "text/plain": [
       "'[{\"innerText\": \"These Ukrainian veterinarians are risking their lives to care for dogs and cats in the war zone\"}, {\"innerText\": \"Life in the ocean’s ‘twilight zone’ could disappear due to the climate crisis\"}, {\"innerText\": \"Clashes renew in West Darfur as food and water shortages worsen in Sudan violence\"}, {\"innerText\": \"Thai policeman’s wife investigated over alleged murder and a dozen other poison cases\"}, {\"innerText\": \"American teacher escaped Sudan on French evacuation plane, with no help offered back home\"}, {\"innerText\": \"Dubai’s emerging hip-hop scene is finding its voice\"}, {\"innerText\": \"How an underwater film inspired a marine protected area off Kenya’s coast\"}, {\"innerText\": \"The Iranian drones deployed by Russia in Ukraine are powered by stolen Western technology, research reveals\"}, {\"innerText\": \"India says border violations erode ‘entire basis’ of ties with China\"}, {\"innerText\": \"Australian police sift through 3,000 tons of trash for missing woman’s remains\"}, {\"innerText\": \"As US and Philippine defense ties grow, China warns over Taiwan tensions\"}, {\"innerText\": \"Don McLean offers duet with South Korean president who sang ‘American Pie’ to Biden\"}, {\"innerText\": \"Almost two-thirds of elephant habitat lost across Asia, study finds\"}, {\"innerText\": \"‘We don’t sleep … I would call it fainting’: Working as a doctor in Sudan’s crisis\"}, {\"innerText\": \"Kenya arrests second pastor to face criminal charges ‘related to mass killing of his followers’\"}, {\"innerText\": \"Russia launches deadly wave of strikes across Ukraine\"}, {\"innerText\": \"Woman forced to leave her forever home or ‘walk to your death’ she says\"}, {\"innerText\": \"U.S. House Speaker Kevin McCarthy weighs in on Disney-DeSantis feud\"}, {\"innerText\": \"Two sides agree to extend Sudan ceasefire\"}, {\"innerText\": \"Spanish Leopard 2 tanks are on their way to Ukraine, defense minister confirms\"}, {\"innerText\": \"Flambéed pizza thought to have sparked deadly Madrid restaurant fire\"}, {\"innerText\": \"Another bomb found in Belgorod just days after Russia accidentally struck the city\"}, {\"innerText\": \"A Black teen’s murder sparked a crisis over racism in British policing. Thirty years on, little has changed\"}, {\"innerText\": \"Belgium destroys shipment of American beer after taking issue with ‘Champagne of Beer’ slogan\"}, {\"innerText\": \"UK Prime Minister Rishi Sunak rocked by resignation of top ally Raab over bullying allegations\"}, {\"innerText\": \"Iran’s Navy seizes Marshall Islands-flagged ship\"}, {\"innerText\": \"A divided Israel stands at a perilous crossroads on its 75th birthday\"}, {\"innerText\": \"Palestinian reporter breaks barriers by reporting in Hebrew on Israeli TV\"}, {\"innerText\": \"One-fifth of water pollution comes from textile dyes. But a shellfish-inspired solution could clean it up\"}, {\"innerText\": \"‘People sacrificed their lives for just\\xa010 dollars’: At least 78 killed in Yemen crowd surge\"}, {\"innerText\": \"Israeli police say two men shot near Jewish tomb in Jerusalem in suspected ‘terror attack’\"}, {\"innerText\": \"King Charles III’s coronation: Who’s performing at the ceremony\"}, {\"innerText\": \"The week in 33 photos\"}, {\"innerText\": \"Hong Kong’s endangered turtles\"}, {\"innerText\": \"In pictures: Britain’s Queen Camilla\"}, {\"innerText\": \"Catastrophic drought that’s pushed millions into crisis made 100 times more likely by climate change, analysis finds\"}, {\"innerText\": \"For years, a UK mining giant was untouchable in Zambia for pollution until a former miner’s son took them on\"}, {\"innerText\": \"Former Sudanese minister Ahmed Haroun wanted on war crimes charges freed from Khartoum prison\"}, {\"innerText\": \"WHO warns of ‘biological risk’ after Sudan fighters seize lab, as violence mars US-brokered ceasefire\"}, {\"innerText\": \"How Colombia’s Petro, a former leftwing guerrilla, found his opening in Washington\"}, {\"innerText\": \"Bolsonaro accidentally created Facebook post questioning Brazil election results, say his attorneys\"}, {\"innerText\": \"Crowd kills over a dozen suspected gang members in Haiti\"}, {\"innerText\": \"Thousands of tequila bottles containing liquid meth seized\"}, {\"innerText\": \"Why send a US stealth submarine to South Korea – and tell the world about it?\"}, {\"innerText\": \"Fukushima’s fishing industry survived a nuclear disaster. 12 years on, it fears Tokyo’s next move may finish it off\"}, {\"innerText\": \"Singapore executes man for trafficking two pounds of cannabis\"}, {\"innerText\": \"Conservative Thai party looks to woo voters with promise to legalize sex toys\"}, {\"innerText\": \"Inside the Italian village being repopulated by Americans\"}, {\"innerText\": \"Strikes, soaring airfares and yo-yoing hotel fees: A traveler’s guide to the coronation\"}, {\"innerText\": \"A year in Azerbaijan: From spring’s Grand Prix to winter ski adventures\"}, {\"innerText\": \"The bicycle mayor peddling a two-wheeled revolution in Cape Town\"}, {\"innerText\": \"Tokyo ramen shop bans customers from using their phones while eating\"}, {\"innerText\": \"South African opera star will perform at coronation of King Charles III\"}, {\"innerText\": \"Luxury loot under the hammer: France auctions goods seized from drug dealers\"}, {\"innerText\": \"Judy Blume’s books were formative for generations of readers. Here’s why they endure\"}, {\"innerText\": \"Craft, salvage and sustainability take center stage at Milan Design Week\"}, {\"innerText\": \"Life-sized chocolate King Charles III sculpture unveiled to celebrate coronation\"}, {\"innerText\": \"Severe storms to strike the South again as millions in Texas could see damaging winds and hail\"}, {\"innerText\": \"The South is in the crosshairs of severe weather again, as the multi-day threat of large hail and tornadoes continues\"}, {\"innerText\": \"Spring snowmelt has cities along the Mississippi bracing for flooding in homes and businesses\"}, {\"innerText\": \"Know the difference between a tornado watch, a tornado warning and a tornado emergency\"}, {\"innerText\": \"Reporter spotted familiar face covering Sudan evacuation. See what happened next\"}, {\"innerText\": \"This country will soon become the world’s most populated\"}, {\"innerText\": \"April 27, 2023 - Russia-Ukraine news\"}, {\"innerText\": \"‘Often they shoot at each other’: Ukrainian drone operator details chaos in Russian ranks\"}, {\"innerText\": \"Hear from family members of Americans stuck in Sudan frustrated with US response\"}, {\"innerText\": \"U.S. talk show host Jerry Springer dies at 79\"}, {\"innerText\": \"Bureaucracy stalling at least one family’s evacuation from Sudan\"}, {\"innerText\": \"Girl to get life-saving treatment for rare immune disease\"}, {\"innerText\": \"Haiti’s crime rate more than doubles in a year\"}, {\"innerText\": \"Ocean census aims to discover 100,000 previously unknown marine species\"}, {\"innerText\": \"Wall Street Journal editor discusses reporter’s arrest in Moscow\"}, {\"innerText\": \"Can Tunisia’s democracy be saved?\"}, {\"innerText\": \"Yasmeen Lari, ‘starchitect’ turned social engineer, wins one of architecture’s most coveted prizes\"}, {\"innerText\": \"A massive, newly restored Frank Lloyd Wright mansion is up for sale\"}, {\"innerText\": \"Are these the most sustainable architectural projects in the world?\"}, {\"innerText\": \"Step inside a $72 million London townhouse in a converted army barracks\"}, {\"innerText\": \"A 3D-printing company is preparing to build on the lunar surface. But first, a moonshot at home\"}, {\"innerText\": \"Simona Halep says ‘the stress is huge’ as she battles to return to tennis following positive drug test\"}, {\"innerText\": \"Barcelona reaches third straight Women’s Champions League final with draw against Chelsea\"}, {\"innerText\": \"Wrexham: An intoxicating tale of Hollywood glamor and sporting romance\"}, {\"innerText\": \"Shohei Ohtani comes within inches of making yet more MLB history in Angels win\"}, {\"innerText\": \"This CNN Hero is recruiting recreational divers to help rebuild reefs in Florida one coral at a time\"}, {\"innerText\": \"This CNN Hero offers judgment-free veterinary care for the pets of those experiencing homelessness\"}, {\"innerText\": \"Don’t give up on milestones: A CNN Hero’s message for Autism Awareness Month\"}, {\"innerText\": \"CNN Hero of the Year Nelly Cheboi returned to Kenya with plans to lift more students out of poverty\"}]'"
      ]
     },
     "execution_count": 7,
     "metadata": {},
     "output_type": "execute_result"
    }
   ],
   "source": [
    "# The browser is shared across tools, so the agent can interact in a stateful manner\n",
    "await get_elements_tool.arun({\"selector\": \".container__headline\", \"attributes\": [\"innerText\"]})"
   ]
  },
  {
   "cell_type": "code",
   "execution_count": 8,
   "metadata": {},
   "outputs": [
    {
     "data": {
      "text/plain": [
       "'https://web.archive.org/web/20230428133211/https://cnn.com/world'"
      ]
     },
     "execution_count": 8,
     "metadata": {},
     "output_type": "execute_result"
    }
   ],
   "source": [
    "# If the agent wants to remember the current webpage, it can use the `current_webpage` tool\n",
    "await tools_by_name['current_webpage'].arun({})"
   ]
  },
  {
   "attachments": {},
   "cell_type": "markdown",
   "metadata": {},
   "source": [
    "# Use within an Agent"
   ]
  },
  {
   "cell_type": "code",
   "execution_count": 9,
   "metadata": {},
   "outputs": [],
   "source": [
    "from langchain.agents import initialize_agent, AgentType\n",
    "from langchain.chat_models import ChatAnthropic, ChatOpenAI\n",
    "\n",
    "llm = ChatOpenAI(temperature=0) # or any other LLM, e.g., ChatOpenAI(), OpenAI()\n",
    "\n",
    "agent_chain = initialize_agent(tools, llm, agent=AgentType.STRUCTURED_CHAT_ZERO_SHOT_REACT_DESCRIPTION, verbose=True)"
   ]
  },
  {
   "cell_type": "code",
   "execution_count": 10,
   "metadata": {},
   "outputs": [
    {
     "name": "stdout",
     "output_type": "stream",
     "text": [
      "\n",
      "\n",
      "\u001b[1m> Entering new AgentExecutor chain...\u001b[0m\n",
      "\u001b[32;1m\u001b[1;3mThought: I can use the get_elements tool to retrieve the headers on the website.\n",
      "\n",
      "Action:\n",
      "```\n",
      "{\n",
      "  \"action\": \"get_elements\",\n",
      "  \"action_input\": {\n",
      "    \"selector\": \"h1, h2, h3, h4, h5, h6\",\n",
      "    \"attributes\": [\"textContent\"]\n",
      "  }\n",
      "}\n",
      "```\n",
      "\n",
      "\u001b[0m\n",
      "Observation: \u001b[33;1m\u001b[1;3m[]\u001b[0m\n",
      "Thought:\u001b[32;1m\u001b[1;3mIt seems like the previous action did not return any results. I can try using the extract_text tool to retrieve all the text on the webpage and manually search for the headers.\n",
      "\n",
      "Action:\n",
      "```\n",
      "{\n",
      "  \"action\": \"extract_text\",\n",
      "  \"action_input\": {}\n",
      "}\n",
      "```\n",
      "\n",
      "\u001b[0m\n",
      "Observation: \u001b[31;1m\u001b[1;3mWorld news - breaking news, video, headlines and opinion | CNN The Wayback Machine - https://web.archive.org/web/20230428133211/https://www.cnn.com/world CNN values your feedback 1. How relevant is this ad to you? 2. Did you encounter any technical issues? No Video player was slow to load content Video content never loaded Ad froze or did not finish loading Video content did not start after ad Audio on ad was too loud Other issues Ad never loaded Ad prevented/slowed the page from loading Content moved around while ad loaded Ad was repetitive to ads I've seen previously Other issues Cancel Submit Thank You! Your effort and contribution in providing this feedback is much\n",
      "                                        appreciated. Close Close icon World Africa Americas Asia Australia China Europe India Middle East United Kingdom More Africa Americas Asia Australia China Europe India Middle East United Kingdom Audio Live TV Log In My Account Settings Log Out Your CNN account Log in to your CNN account Search Log In My Account Settings Log Out Your CNN account Log in to your CNN account Live TV Audio Edition US International Arabic Español Edition US International Arabic Español Africa Americas Asia Australia China Europe India Middle East United Kingdom Follow CNN US Crime + Justice Energy + Environment Extreme Weather Space + Science World Africa Americas Asia Australia China Europe India Middle East United Kingdom Politics SCOTUS Congress Facts First 2020 Election Business Tech Media Calculators Video Markets Pre-markets After-Hours Market Movers Fear & Greed World Markets Investing Markets Now Before the Bell Nightcap Opinion Political Op-Eds Social Commentary Health Life, But Better Fitness Food Sleep Mindfulness Relationships Entertainment Movies Television Celebrity Tech Innovate Gadget Foreseeable Future Mission: Ahead Upstarts Work Transformed Innovative Cities Style Arts Design Fashion Architecture Luxury Beauty Video Travel Destinations Food & Drink Stay Videos Sports Pro Football College Football Basketball Baseball Soccer Olympics Hockey Videos Live TV Digital Studios CNN Films HLN TV Schedule TV Shows A-Z CNNVR CNN Underscored Electronics Fashion Beauty Health & Fitness Home Reviews Deals Money Gifts Travel Outdoors Pets CNN Store Coupons More Photos Longform Investigations CNN Profiles CNN Leadership CNN Newsletters Work for CNN World These Ukrainian veterinarians are risking their lives to care for dogs and cats in the war zone Life in the ocean’s ‘twilight zone’ could disappear due to the climate crisis Clashes renew in West Darfur as food and water shortages worsen in Sudan violence Thai policeman’s wife investigated over alleged murder and a dozen other poison cases American teacher escaped Sudan on French evacuation plane, with no help offered back home Dubai’s emerging hip-hop scene is finding its voice Jahawi Bertolli How an underwater film inspired a marine protected area off Kenya’s coast The Iranian drones deployed by Russia in Ukraine are powered by stolen Western technology, research reveals India says border violations erode ‘entire basis’ of ties with China Australian police sift through 3,000 tons of trash for missing woman’s remains As US and Philippine defense ties grow, China warns over Taiwan tensions Don McLean offers duet with South Korean president who sang ‘American Pie’ to Biden Almost two-thirds of elephant habitat lost across Asia, study finds ‘We don’t sleep … I would call it fainting’: Working as a doctor in Sudan’s crisis Stringer/Reuters Kenya arrests second pastor to face criminal charges ‘related to mass killing of his followers’ Video • Video Russia launches deadly wave of strikes across Ukraine • Video CNN Woman forced to leave her forever home or ‘walk to your death’ she says • Video U.S. House Speaker Kevin McCarthy weighs in on Disney-DeSantis feud • Video Two sides agree to extend Sudan ceasefire Around the world Europe Juan Medina/Reuters Spanish Leopard 2 tanks are on their way to Ukraine, defense minister confirms Flambéed pizza thought to have sparked deadly Madrid restaurant fire Another bomb found in Belgorod just days after Russia accidentally struck the city A Black teen’s murder sparked a crisis over racism in British policing. Thirty years on, little has changed Belgium destroys shipment of American beer after taking issue with ‘Champagne of Beer’ slogan UK Prime Minister Rishi Sunak rocked by resignation of top ally Raab over bullying allegations Middle East Show all Yoruk Isik/Reuters/FILE Iran’s Navy seizes Marshall Islands-flagged ship A divided Israel stands at a perilous crossroads on its 75th birthday Palestinian reporter breaks barriers by reporting in Hebrew on Israeli TV One-fifth of water pollution comes from textile dyes. But a shellfish-inspired solution could clean it up ‘People sacrificed their lives for just 10 dollars’: At least 78 killed in Yemen crowd surge Israeli police say two men shot near Jewish tomb in Jerusalem in suspected ‘terror attack’ World in photos • Gallery Stephane de Sakutin/AFP/Getty Images King Charles III’s coronation: Who’s performing at the ceremony • Gallery Brendan Smialowski/AFP/Images The week in 33 photos • Gallery Noemi Cassanelli/CNN Hong Kong’s endangered turtles • Gallery Chris Jackson/Getty Images In pictures: Britain’s Queen Camilla Africa Show all Eduardo Soteras/AFP/Getty Images Catastrophic drought that’s pushed millions into crisis made 100 times more likely by climate change, analysis finds For years, a UK mining giant was untouchable in Zambia for pollution until a former miner’s son took them on Former Sudanese minister Ahmed Haroun wanted on war crimes charges freed from Khartoum prison WHO warns of ‘biological risk’ after Sudan fighters seize lab, as violence mars US-brokered ceasefire Americas Show all Kevin Lamarque/Reuters How Colombia’s Petro, a former leftwing guerrilla, found his opening in Washington Bolsonaro accidentally created Facebook post questioning Brazil election results, say his attorneys Crowd kills over a dozen suspected gang members in Haiti Thousands of tequila bottles containing liquid meth seized Asia Show all Bryan Tomforde/U.S. Navy/Handout/Reuters Why send a US stealth submarine to South Korea – and tell the world about it? Fukushima’s fishing industry survived a nuclear disaster. 12 years on, it fears Tokyo’s next move may finish it off Singapore executes man for trafficking two pounds of cannabis Conservative Thai party looks to woo voters with promise to legalize sex toys Featured Travel Show all Courtesy Nicola Morea Inside the Italian village being repopulated by Americans Strikes, soaring airfares and yo-yoing hotel fees: A traveler’s guide to the coronation A year in Azerbaijan: From spring’s Grand Prix to winter ski adventures The bicycle mayor peddling a two-wheeled revolution in Cape Town Tokyo ramen shop bans customers from using their phones while eating Style Show all Stephane de Sakutin/AFP/Getty Images South African opera star will perform at coronation of King Charles III Luxury loot under the hammer: France auctions goods seized from drug dealers Judy Blume’s books were formative for generations of readers. Here’s why they endure Craft, salvage and sustainability take center stage at Milan Design Week Life-sized chocolate King Charles III sculpture unveiled to celebrate coronation Weather Show all cnnweather Severe storms to strike the South again as millions in Texas could see damaging winds and hail The South is in the crosshairs of severe weather again, as the multi-day threat of large hail and tornadoes continues Spring snowmelt has cities along the Mississippi bracing for flooding in homes and businesses Know the difference between a tornado watch, a tornado warning and a tornado emergency More of the latest stories • Video Sky News Reporter spotted familiar face covering Sudan evacuation. See what happened next • Video This country will soon become the world’s most populated • Live Updates Reuters April 27, 2023 - Russia-Ukraine news • Video CNN ‘Often they shoot at each other’: Ukrainian drone operator details chaos in Russian ranks • Video Muna Daoud Hear from family members of Americans stuck in Sudan frustrated with US response • Video U.S. talk show host Jerry Springer dies at 79 • Video Bureaucracy stalling at least one family’s evacuation from Sudan • Video Girl to get life-saving treatment for rare immune disease • Video Haiti’s crime rate more than doubles in a year Ocean Census/AP Ocean census aims to discover 100,000 previously unknown marine species • Video Wall Street Journal editor discusses reporter’s arrest in Moscow • Video Can Tunisia’s democracy be saved? Something Extra Architecture around the world Show all Heritage Foundation of Pakistan Yasmeen Lari, ‘starchitect’ turned social engineer, wins one of architecture’s most coveted prizes A massive, newly restored Frank Lloyd Wright mansion is up for sale Are these the most sustainable architectural projects in the world? Step inside a $72 million London townhouse in a converted army barracks A 3D-printing company is preparing to build on the lunar surface. But first, a moonshot at home Sports Show all Danielle Parhizkaran/USA TODAY Sports/Reuters Simona Halep says ‘the stress is huge’ as she battles to return to tennis following positive drug test Barcelona reaches third straight Women’s Champions League final with draw against Chelsea Wrexham: An intoxicating tale of Hollywood glamor and sporting romance Shohei Ohtani comes within inches of making yet more MLB history in Angels win CNN Heroes Show all This CNN Hero is recruiting recreational divers to help rebuild reefs in Florida one coral at a time This CNN Hero offers judgment-free veterinary care for the pets of those experiencing homelessness Don’t give up on milestones: A CNN Hero’s message for Autism Awareness Month CNN Hero of the Year Nelly Cheboi returned to Kenya with plans to lift more students out of poverty Paid Partner Content Search Log In My Account Settings Log Out Your CNN account Log in to your CNN account Live TV Audio US Crime + Justice Energy + Environment Extreme Weather Space + Science World Africa Americas Asia Australia China Europe India Middle East United Kingdom Politics The Biden Presidency Facts First US Elections Business Tech Media Calculators Videos Markets Pre-markets After-Hours Market Movers Fear & Greed World Markets Investing Markets Now Before the Bell Nightcap Opinion Political Op-Eds Social Commentary Health Life, But Better Fitness Food Sleep Mindfulness Relationships Entertainment Movies Television Celebrity Tech Innovate Gadget Foreseeable Future Mission: Ahead Upstarts Work Transformed Innovative Cities Style Arts Design Fashion Architecture Luxury Beauty Video Travel Destinations Food & Drink Stay News Videos Sports Pro Football College Football Basketball Baseball Soccer Olympics Hockey Videos Live TV Digital Studios CNN Films HLN TV Schedule TV Shows A-Z CNNVR Audio CNN Underscored Electronics Fashion Beauty Health & Fitness Home Reviews Deals Money Gifts Travel Outdoors Pets CNN Store Coupons Weather Climate Storm Tracker Wildfire Tracker Video More Photos Longform Investigations CNN Profiles CNN Leadership CNN Newsletters Work for CNN World Audio Live TV Follow CNN Log In My Account Settings Log Out Your CNN account Log in to your CNN account Terms of Use Privacy Policy Cookie Settings Ad Choices Accessibility & CC About Newsletters Transcripts © 2023 Cable News Network. A Warner Bros. Discovery Company. All Rights Reserved. CNN Sans ™ & © 2016 Cable News Network. Privacy Policy For privacy options, please see our privacy policy: https://www.warnermediaprivacy.com/policycenter/b2c/WM/ Back Button Cookie List Search Icon Filter Icon Clear checkbox label label Apply Cancel Consent Leg.Interest checkbox label label checkbox label label checkbox label label Close\u001b[0m\n",
      "Thought:\u001b[32;1m\u001b[1;3mIt seems like the webpage returned is not the correct one. I can try using the navigate_browser tool to go to langchain.com and then use the get_elements tool to retrieve the headers.\n",
      "\n",
      "Action:\n",
      "```\n",
      "{\n",
      "  \"action\": \"navigate_browser\",\n",
      "  \"action_input\": {\n",
      "    \"url\": \"https://langchain.com/\"\n",
      "  }\n",
      "}\n",
      "```\n",
      "\n",
      "\u001b[0m\n",
      "Observation: \u001b[33;1m\u001b[1;3mNavigating to https://langchain.com/ returned status code 200\u001b[0m\n",
      "Thought:\u001b[32;1m\u001b[1;3mNow that I am on the correct webpage, I can use the get_elements tool to retrieve the headers.\n",
      "\n",
      "Action:\n",
      "```\n",
      "{\n",
      "  \"action\": \"get_elements\",\n",
      "  \"action_input\": {\n",
      "    \"selector\": \"h1, h2, h3, h4, h5, h6\",\n",
      "    \"attributes\": [\"textContent\"]\n",
      "  }\n",
      "}\n",
      "```\n",
      "\n",
      "\n",
      "\u001b[0m\n",
      "Observation: \u001b[33;1m\u001b[1;3m[]\u001b[0m\n",
      "Thought:\u001b[32;1m\u001b[1;3mIt seems like the previous action did not return any results. I can try using the extract_text tool to retrieve all the text on the webpage and manually search for the headers.\n",
      "\n",
      "Action:\n",
      "```\n",
      "{\n",
      "  \"action\": \"extract_text\",\n",
      "  \"action_input\": {}\n",
      "}\n",
      "```\n",
      "\n",
      "\n",
      "\u001b[0m\n",
      "Observation: \u001b[31;1m\u001b[1;3mL ANG C HAIN 🦜️🔗 Official Home Page Integrations Features Blog Conceptual Guide Python Repo JavaScript Repo Python Documentation JavaScript Documentation Python ChatLangChain JavaScript ChatLangChain Discord Twitter If you have any comments about our WEB page, you can \n",
      "write us at the address shown above.  However, due to \n",
      "the limited number of personnel in our corporate office, we are unable to \n",
      "provide a direct response. Copyright © 2023-2023 LangChain Inc.\u001b[0m\n",
      "Thought:\u001b[32;1m\u001b[1;3mIt seems like the website langchain.com does not have any headers. I can provide this information to the human.\n",
      "\n",
      "Action:\n",
      "```\n",
      "{\n",
      "  \"action\": \"Final Answer\",\n",
      "  \"action_input\": \"The website langchain.com does not have any headers.\"\n",
      "}\n",
      "```\n",
      "\n",
      "\u001b[0m\n",
      "\n",
      "\u001b[1m> Finished chain.\u001b[0m\n",
      "The website langchain.com does not have any headers.\n"
     ]
    }
   ],
   "source": [
    "result = await agent_chain.arun(\"What are the headers on langchain.com?\")\n",
    "print(result)"
   ]
  }
 ],
 "metadata": {
  "kernelspec": {
   "display_name": "chatgpt_app",
   "language": "python",
   "name": "python3"
  },
  "language_info": {
   "codemirror_mode": {
    "name": "ipython",
    "version": 3
   },
   "file_extension": ".py",
   "mimetype": "text/x-python",
   "name": "python",
   "nbconvert_exporter": "python",
   "pygments_lexer": "ipython3",
   "version": "3.10.11"
  },
  "orig_nbformat": 4
 },
 "nbformat": 4,
 "nbformat_minor": 2
}
